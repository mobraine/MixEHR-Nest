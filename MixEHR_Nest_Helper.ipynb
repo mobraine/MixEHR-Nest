{
 "cells": [
  {
   "cell_type": "code",
   "execution_count": 2,
   "id": "25f74801",
   "metadata": {},
   "outputs": [],
   "source": [
    "import numpy as np\n",
    "import pandas as pd\n",
    "import tqdm\n",
    "import scipy.sparse\n",
    "import pickle\n",
    "import os\n",
    "\n",
    "#os.mkdir('matrix')\n",
    "icd_desc = pd.read_csv('D_ICD_DIAGNOSES.csv.gz')\n",
    "MIMIC3 = pd.read_csv('DIAGNOSES_ICD.csv.gz')[[\"SUBJECT_ID\", \"ICD9_CODE\"]].dropna(axis=0)\n",
    "\n",
    "# preprocess ICD9_CODE to match phecode. Rule: 3 chars --> no change. 4 chars --> add . before last char. 5 chars --> add . before second last char\n",
    "icd_desc_icd_recoded = [icd if len(icd) == 3 else icd[:3] + '.' + icd[-1] if len(icd) == 4 else icd[:3] + '.' + icd[-2:] for icd in icd_desc['ICD9_CODE']]\n",
    "MIMIC3_icd_recoded = [icd if len(icd) == 3 else icd[:3] + '.' + icd[-1] if len(icd) == 4 else icd[:3] + '.' + icd[-2:] for icd in MIMIC3['ICD9_CODE'].astype('string')]\n",
    "icd_desc['ICD9_CODE'] = icd_desc_icd_recoded\n",
    "MIMIC3['ICD9_CODE'] = MIMIC3_icd_recoded\n",
    "\n",
    "# only need ICD9 code, PheCode and description\n",
    "phecode = pd.read_csv('phecode_icd9_rolled.csv')[['ICD9', 'PheCode','ICD9 String', 'Phenotype']]\n",
    "\n",
    "# join MIMIC3 and phecode based on ICD9 codes, so that each row is an ICD code and its associated PheCode for a patient\n",
    "MIMIC3_phecode = MIMIC3.join(phecode.set_index('ICD9'), on='ICD9_CODE', how='inner')\n",
    "\n",
    "\n",
    "patient_list = np.sort(MIMIC3_phecode.SUBJECT_ID.unique().tolist())\n",
    "D = len(patient_list)"
   ]
  },
  {
   "cell_type": "code",
   "execution_count": 3,
   "id": "1c9739ab",
   "metadata": {},
   "outputs": [],
   "source": [
    "# patient_idx_meta = {k: v for v, k in enumerate(patient_list)}\n",
    "ICD_list = np.sort(MIMIC3_phecode.ICD9_CODE.unique().tolist())\n",
    "V = len(ICD_list)"
   ]
  },
  {
   "cell_type": "code",
   "execution_count": 4,
   "id": "c4785caa",
   "metadata": {},
   "outputs": [],
   "source": [
    "## Link word with index, HERE ORDER MISMATCH BETWEEN META AND N_WD OR N_DK\n",
    "patient_idx_meta = {k: v for v, k in enumerate(patient_list)}\n",
    "idx_patient_meta = {v: k for v, k in enumerate(patient_list)}\n",
    "vocab_idx_meta = {k: v for v, k in enumerate(ICD_list)}\n",
    "idx_vocab_meta = {v: k for v, k in enumerate(ICD_list)}"
   ]
  },
  {
   "cell_type": "code",
   "execution_count": 5,
   "id": "02a8f6b1",
   "metadata": {},
   "outputs": [],
   "source": [
    "## Get document by word matrix (D X V)\n",
    "# n_wd = pd.crosstab(MIMIC3.loc[MIMIC3[\"SUBJECT_ID\"].isin(patient_list)][\"SUBJECT_ID\"], MIMIC3.loc[MIMIC3[\"ICD9_CODE\"].isin(ICD_list)][\"ICD9_CODE\"])\n",
    "n_dw = pd.crosstab(MIMIC3_phecode[\"SUBJECT_ID\"], MIMIC3_phecode[\"ICD9_CODE\"])\n",
    "docs = n_dw.values"
   ]
  },
  {
   "cell_type": "code",
   "execution_count": 6,
   "id": "ba4b08af",
   "metadata": {},
   "outputs": [],
   "source": [
    "## mappings and save D X V matrix\n",
    "# with open('matrix2/vocab_idx_map.pkl', 'wb') as f:\n",
    "#     pickle.dump(vocab_idx_meta, f)\n",
    "# with open('matrix2/idx_vocab_map.pkl', 'wb') as f:\n",
    "#     pickle.dump(idx_vocab_meta, f)\n",
    "    \n",
    "# with open('matrix2/patient_idx_map.pkl', 'wb') as f:\n",
    "#     pickle.dump(patient_idx_meta, f)\n",
    "# with open('matrix2/idx_patient_map.pkl', 'wb') as f:\n",
    "#     pickle.dump(idx_patient_meta, f)\n",
    "\n",
    "# sparse_docs = scipy.sparse.csc_matrix(docs)\n",
    "# scipy.sparse.save_npz('matrix2/n_dw.npz', sparse_docs)\n",
    "\n"
   ]
  },
  {
   "cell_type": "code",
   "execution_count": 6,
   "id": "d3d2b960",
   "metadata": {},
   "outputs": [],
   "source": [
    "# Get document by topic count matrix (D X K)\n",
    "phecode_patient_counts = pd.crosstab(MIMIC3_phecode[\"SUBJECT_ID\"], MIMIC3_phecode[\"PheCode\"])\n",
    "n_dk = phecode_patient_counts.values"
   ]
  },
  {
   "cell_type": "code",
   "execution_count": 7,
   "id": "7baeade0",
   "metadata": {},
   "outputs": [],
   "source": [
    "# alpha (K * M)\n",
    "# M = 4 ## hyper parameter\n",
    "# m_subtopics = sys.argv[1]\n",
    "\n",
    "PheCode = np.unique(MIMIC3_phecode['PheCode'].values)\n",
    "K = PheCode.size"
   ]
  },
  {
   "cell_type": "code",
   "execution_count": 8,
   "id": "a184cefc",
   "metadata": {},
   "outputs": [
    {
     "name": "stderr",
     "output_type": "stream",
     "text": [
      "100%|██████████| 46278/46278 [00:04<00:00, 10158.59it/s]\n"
     ]
    }
   ],
   "source": [
    "M=4\n",
    "alpha_dk = np.zeros((len(patient_list), K, M))\n",
    "\n",
    "# first try assign alpha for phecode-associated subtopics with 1.\n",
    "flatten_alpha_dk = []\n",
    "\n",
    "with tqdm.tqdm(total = len(patient_list)) as pbar:\n",
    "    for idx, pat in enumerate(patient_list):\n",
    "        # get phecode idx for patient \n",
    "        d_k_idx = np.where(n_dk[idx] != 0)\n",
    "        # assign 1 to the subtopics of phecodes\n",
    "        alpha_dk[idx][d_k_idx] = 1\n",
    "        # flatten alpha_dk for patient d\n",
    "        flatten_alpha_dk.append(alpha_dk[idx].flatten())\n",
    "        pbar.update(1)\n",
    "\n",
    "flatten_alpha_dk = np.array(flatten_alpha_dk)\n",
    "\n"
   ]
  },
  {
   "cell_type": "code",
   "execution_count": 9,
   "id": "e3eb3e02",
   "metadata": {},
   "outputs": [],
   "source": [
    "## Save generated alpha\n",
    "sparse_alpha = scipy.sparse.csc_matrix(flatten_alpha_dk)\n",
    "# scipy.sparse.save_npz('matrix2/alpha_dk_flattenedM4.npz', sparse_alpha) \n",
    "scipy.sparse.save_npz('matrix2/alpha_M4.npz', sparse_alpha)\n",
    "# with open('matrix2/phecode_list.pkl', 'wb') as f:\n",
    "#     pickle.dump(PheCode, f)"
   ]
  },
  {
   "cell_type": "code",
   "execution_count": 11,
   "id": "ec66e7dc",
   "metadata": {},
   "outputs": [],
   "source": [
    "n_wk = pd.crosstab(MIMIC3_phecode['ICD9_CODE'], MIMIC3_phecode[\"PheCode\"])\n"
   ]
  },
  {
   "cell_type": "code",
   "execution_count": 12,
   "id": "b8c0fa69",
   "metadata": {},
   "outputs": [],
   "source": [
    "icd_phecode_mapping = n_wk.apply(lambda x: np.argmax(x.values != 0), axis=1).values\n"
   ]
  },
  {
   "cell_type": "code",
   "execution_count": 13,
   "id": "44d3b771",
   "metadata": {},
   "outputs": [],
   "source": [
    "with open('matrix2/icd_phecode_map.pkl', 'wb') as f:\n",
    "    pickle.dump(icd_phecode_mapping, f)"
   ]
  },
  {
   "cell_type": "code",
   "execution_count": 14,
   "id": "caa32fe8",
   "metadata": {},
   "outputs": [
    {
     "name": "stderr",
     "output_type": "stream",
     "text": [
      "  0%|          | 0/46278 [00:01<?, ?it/s]\n"
     ]
    }
   ],
   "source": [
    "alpha_dkM1 = np.zeros((len(patient_list), K))\n",
    "\n",
    "with tqdm.tqdm(total = len(patient_list)) as pbar:\n",
    "    for idx, pat in enumerate(patient_list):\n",
    "        # get phecode idx for patient \n",
    "        d_k_idx = np.where(n_dk[idx] != 0)\n",
    "        # assign 1 to the subtopics of phecodes\n",
    "        alpha_dkM1[idx][d_k_idx] = 1"
   ]
  },
  {
   "cell_type": "code",
   "execution_count": 15,
   "id": "bfaae4c6",
   "metadata": {},
   "outputs": [
    {
     "data": {
      "text/plain": [
       "(46278, 1641)"
      ]
     },
     "execution_count": 15,
     "metadata": {},
     "output_type": "execute_result"
    }
   ],
   "source": [
    "alpha_dkM1.shape"
   ]
  },
  {
   "cell_type": "code",
   "execution_count": 16,
   "id": "e77c4896",
   "metadata": {},
   "outputs": [],
   "source": [
    "sparse_alphaM1 = scipy.sparse.csc_matrix(alpha_dkM1)\n",
    "scipy.sparse.save_npz('matrix2/alpha_M1.npz', sparse_alphaM1) "
   ]
  },
  {
   "cell_type": "code",
   "execution_count": null,
   "id": "32528e3e",
   "metadata": {},
   "outputs": [],
   "source": []
  }
 ],
 "metadata": {
  "kernelspec": {
   "display_name": "Python 3 (ipykernel)",
   "language": "python",
   "name": "python3"
  },
  "language_info": {
   "codemirror_mode": {
    "name": "ipython",
    "version": 3
   },
   "file_extension": ".py",
   "mimetype": "text/x-python",
   "name": "python",
   "nbconvert_exporter": "python",
   "pygments_lexer": "ipython3",
   "version": "3.9.12"
  },
  "vscode": {
   "interpreter": {
    "hash": "a8822641e88d7c74114f38a155dc8686f9f41cc7c790ba54cfc07cc82201c3e7"
   }
  }
 },
 "nbformat": 4,
 "nbformat_minor": 5
}
