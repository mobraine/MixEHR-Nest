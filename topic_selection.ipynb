{
 "cells": [
  {
   "cell_type": "code",
   "execution_count": 8,
   "id": "50c95372-27e3-4043-8fd7-3b130d6b3c00",
   "metadata": {},
   "outputs": [],
   "source": [
    "import pickle\n",
    "import numpy as np\n",
    "import pandas as pd\n",
    "from tqdm import tqdm\n",
    "import math"
   ]
  },
  {
   "cell_type": "code",
   "execution_count": 2,
   "id": "60e42a16-cefe-49fd-9968-36068d1314a9",
   "metadata": {},
   "outputs": [],
   "source": [
    "with open ('matrix/vocab_idx_map.pkl', 'rb') as f1:\n",
    "    vocab_idx_meta = pickle.load(f1)\n",
    "with open('matrix/idx_vocab_map.pkl', 'rb') as f2:\n",
    "    idx_vocab_meta = pickle.load(f2)\n",
    "with open('matrix/patient_idx_map.pkl', 'rb') as f3:\n",
    "    patient_idx_meta = pickle.load(f3)\n",
    "with open('matrix/idx_patient_map.pkl', 'rb') as f4:\n",
    "    idx_patient_meta = pickle.load(f4)\n",
    "with open('matrix/phecode_list.pkl', 'rb') as f5:\n",
    "    PheCode = pickle.load(f5)\n",
    "\n",
    "phi_mtx_path = 'Results/phi_mtx_iter5.pkl'\n",
    "theta_mtx_path = 'Results/theta_mtx_iter5.pkl' \n",
    "\n",
    "with open(phi_mtx_path, 'rb') as f:\n",
    "    phi = pickle.load(f)\n",
    "with open(theta_mtx_path, 'rb') as f:\n",
    "    theta = pickle.load(f)"
   ]
  },
  {
   "cell_type": "code",
   "execution_count": 3,
   "id": "e2c86767-c632-4e65-b6d9-b4bed35a3d9a",
   "metadata": {},
   "outputs": [
    {
     "data": {
      "text/plain": [
       "(4923, 6239)"
      ]
     },
     "execution_count": 3,
     "metadata": {},
     "output_type": "execute_result"
    }
   ],
   "source": [
    "phi.shape"
   ]
  },
  {
   "cell_type": "code",
   "execution_count": 4,
   "id": "8f8d6dc8-06ff-4097-9324-267b2a8dc17a",
   "metadata": {},
   "outputs": [],
   "source": [
    "ICD_meta = pd.read_csv(\"D_ICD_DIAGNOSES.csv.gz\", header=0)\n",
    "ICD_meta = ICD_meta[['ICD9_CODE','SHORT_TITLE']]\n",
    "ICD_meta['ICD9_CODE'] = ICD_meta['ICD9_CODE'].str.lstrip('0')\n",
    "ICD_meta['Compound_ID'] = ICD_meta['ICD9_CODE'] + \"-\" + ICD_meta['SHORT_TITLE']\n",
    "\n",
    "ICD_topic_prob = phi.T\n",
    "ICD_list = list(range(ICD_topic_prob.shape[0]))\n",
    "ICD_code_list = [idx_vocab_meta[key] for key in ICD_list]\n",
    "vocab = []   \n",
    "for key in ICD_code_list:\n",
    "    value = ICD_meta[ICD_meta['ICD9_CODE'] == str(key).replace('.','')]['Compound_ID'].tolist()\n",
    "    if value == []:\n",
    "        value = [str(key)] \n",
    "    vocab.append(value[0])"
   ]
  },
  {
   "cell_type": "code",
   "execution_count": 5,
   "id": "a0d49fc5-2fbe-4ebd-aed3-9b8d84cd0d44",
   "metadata": {},
   "outputs": [
    {
     "name": "stderr",
     "output_type": "stream",
     "text": [
      "100%|█████████████████████████████████████| 1641/1641 [00:01<00:00, 1453.91it/s]\n"
     ]
    }
   ],
   "source": [
    "pearson_correlation = []\n",
    "with tqdm (total = int(4923/3)) as pbar:\n",
    "    for i in range(int(4923/3)):\n",
    "        top_icd_idx = []\n",
    "        top_ICD_topic = []\n",
    "        sorted_idx = np.argsort(-phi.T[:,i*3:(i*3+3)], axis=0)\n",
    "        for k in range(3):\n",
    "            sorted_index_k = sorted_idx[:, k] \n",
    "            for idx, ICD in enumerate(sorted_index_k[:3]): \n",
    "                top_icd_idx.append(ICD) \n",
    "#         print(phi.T[top_icd_idx,i*3:(i*3 + 3)])\n",
    "        tmp = pd.DataFrame(phi.T[top_icd_idx,i*3:(i*3 + 3)]).corr()       \n",
    "        pearson_corr = (tmp.loc[0,1] + tmp.loc[0,2] + tmp.loc[1,2])/3\n",
    "        pearson_correlation.append(pearson_corr)\n",
    "        pbar.update(1)"
   ]
  },
  {
   "cell_type": "code",
   "execution_count": 69,
   "id": "888333ca-7a6a-4c2c-b3ab-8e13e8a3a3ae",
   "metadata": {},
   "outputs": [],
   "source": [
    "tmp = pearson_correlation.sort()"
   ]
  },
  {
   "cell_type": "code",
   "execution_count": 84,
   "id": "eb7e34a6-6513-49c2-80f8-c03d35b22606",
   "metadata": {},
   "outputs": [
    {
     "data": {
      "text/plain": [
       "array([   1,   10,  318, 1623,  154, 1542, 1578,  981, 1629, 1426])"
      ]
     },
     "execution_count": 84,
     "metadata": {},
     "output_type": "execute_result"
    }
   ],
   "source": [
    "np.argsort(pearson_correlation, axis=0)[:10]"
   ]
  },
  {
   "cell_type": "code",
   "execution_count": 86,
   "id": "1d90327d-5601-455a-9fd0-29398e215322",
   "metadata": {},
   "outputs": [],
   "source": [
    "selected_phecode = [PheCode[i] for i in [   1,   10,  318, 1623,  154, 1542, 1578,  981, 1629, 1426]]"
   ]
  },
  {
   "cell_type": "code",
   "execution_count": 87,
   "id": "f09d2be5-f268-4af1-b01e-97c8338bfad4",
   "metadata": {},
   "outputs": [
    {
     "data": {
      "text/plain": [
       "[8.5, 38.1, 276.5, 1000.0, 204.0, 860.0, 952.0, 565.0, 1006.0, 751.2]"
      ]
     },
     "execution_count": 87,
     "metadata": {},
     "output_type": "execute_result"
    }
   ],
   "source": [
    "selected_phecode"
   ]
  },
  {
   "cell_type": "code",
   "execution_count": 9,
   "id": "3e71a6ac-4cbc-4fb4-8bb4-6d6a7c3dd0e9",
   "metadata": {},
   "outputs": [],
   "source": [
    "remove_na = [0 if math.isnan(x) else x for x in pearson_correlation]"
   ]
  },
  {
   "cell_type": "code",
   "execution_count": 17,
   "id": "3efd7a7e-07bd-410d-a848-6ebd4376cd52",
   "metadata": {},
   "outputs": [
    {
     "data": {
      "image/png": "[encoded data removed]",
      "text/plain": [
       "<Figure size 432x288 with 1 Axes>"
      ]
     },
     "metadata": {
      "needs_background": "light"
     },
     "output_type": "display_data"
    }
   ],
   "source": [
    "import matplotlib.pyplot as plt\n",
    "plt.bar(range(len(remove_na)),remove_na)\n",
    "plt.xlabel('PheCode Index')\n",
    "plt.ylabel('Pearson Correlation')\n",
    "plt.savefig('pearson_corr.png', dpi = 200)\n",
    "plt.show()"
   ]
  },
  {
   "cell_type": "code",
   "execution_count": null,
   "id": "e110ce2e-0428-411a-a6c0-13bc40c7e614",
   "metadata": {},
   "outputs": [],
   "source": []
  }
 ],
 "metadata": {
  "kernelspec": {
   "display_name": "Python 3 (ipykernel)",
   "language": "python",
   "name": "python3"
  },
  "language_info": {
   "codemirror_mode": {
    "name": "ipython",
    "version": 3
   },
   "file_extension": ".py",
   "mimetype": "text/x-python",
   "name": "python",
   "nbconvert_exporter": "python",
   "pygments_lexer": "ipython3",
   "version": "3.8.10"
  }
 },
 "nbformat": 4,
 "nbformat_minor": 5
}
