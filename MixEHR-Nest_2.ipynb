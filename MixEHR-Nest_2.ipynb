{
 "cells": [
  {
   "cell_type": "code",
   "execution_count": 1,
   "id": "cad98e57",
   "metadata": {},
   "outputs": [],
   "source": [
    "# STUDENT NAME: Zilong Wang, Ruohan Wang\n",
    "# STUDENT ID: 260823366, 260911138\n",
    "import numpy as np\n",
    "import pandas as pd\n",
    "import seaborn as sns\n",
    "import tqdm\n",
    "import scipy.sparse\n",
    "import random\n",
    "import matplotlib.pyplot as plt\n",
    "import pickle\n",
    "from sklearn.model_selection import train_test_split\n",
    "\n",
    "np.random.seed(1234)\n",
    "random.seed(1234)"
   ]
  },
  {
   "cell_type": "code",
   "execution_count": 2,
   "id": "fc80814f",
   "metadata": {},
   "outputs": [],
   "source": [
    "# docs = scipy.sparse.load_npz('matrix/n_dw.npz').toarray()\n",
    "# alpha = scipy.sparse.load_npz('matrix/alpha_dk_flattened.npz').toarray()\n",
    "# with open('matrix/icd_phecode_map.pkl', 'rb') as f5:\n",
    "#     icd_phecode_map = pickle.load(f5)"
   ]
  },
  {
   "cell_type": "code",
   "execution_count": 3,
   "id": "c770b5db",
   "metadata": {},
   "outputs": [],
   "source": [
    "docs = scipy.sparse.load_npz('matrix2/n_dw.npz').toarray()\n",
    "alpha = scipy.sparse.load_npz('matrix2/alpha_dk_flattened.npz').toarray()\n",
    "with open('matrix2/icd_phecode_map.pkl', 'rb') as f5:\n",
    "    icd_phecode_map = pickle.load(f5)"
   ]
  },
  {
   "cell_type": "code",
   "execution_count": 4,
   "id": "c0fc0334",
   "metadata": {},
   "outputs": [],
   "source": [
    "# when there is no subtopics, only Phecodes as topics\n",
    "alpha_M1 = scipy.sparse.load_npz('matrix2/alpha_M1.npz').toarray()"
   ]
  },
  {
   "cell_type": "code",
   "execution_count": 95,
   "id": "d4265c7e",
   "metadata": {},
   "outputs": [],
   "source": [
    "alpha_M4 = scipy.sparse.load_npz('matrix2/alpha_M4.npz').toarray()"
   ]
  },
  {
   "cell_type": "code",
   "execution_count": 96,
   "id": "32647a64",
   "metadata": {},
   "outputs": [
    {
     "data": {
      "text/plain": [
       "False"
      ]
     },
     "execution_count": 96,
     "metadata": {},
     "output_type": "execute_result"
    }
   ],
   "source": [
    "np.isnan(alpha_M4).any()"
   ]
  },
  {
   "cell_type": "code",
   "execution_count": 6,
   "id": "063e03d5",
   "metadata": {},
   "outputs": [],
   "source": [
    "## if not works well, try using GPU for more memory and faster speed...\n",
    "\n",
    "class MixEHR_Nest(object):\n",
    "    def __init__(self, docs, num_topics, alpha, beta, iteration, perp=False, num_sub_topics=1, \n",
    "                topic_word_count=None, topic_count=None, phi=None):\n",
    "        self.iteration = iteration\n",
    "        self.D = docs.shape[0]\n",
    "        self.V = docs.shape[1] \n",
    "        self.K = num_topics\n",
    "        self.M = num_sub_topics # MINIMUM 1 SUBTOPICS, WHICH IS EQUAL TO NO SUBTOPICS\n",
    "        \n",
    "        self.alpha = alpha\n",
    "        self.beta = beta\n",
    "        \n",
    "        self.documents = {}\n",
    "        for i, doc in enumerate(docs):\n",
    "            tmp = []\n",
    "            for j, word_freq in enumerate(doc):\n",
    "                if(word_freq==0):\n",
    "                    continue\n",
    "                while(word_freq!=0):\n",
    "                    tmp.append(j)\n",
    "                    word_freq -=1\n",
    "            self.documents[i] = tmp\n",
    "            random.shuffle(self.documents[i])\n",
    "        \n",
    "        self.topic_assignment = {} \n",
    "        \n",
    "        \n",
    "        if perp:\n",
    "            ## n_wk.T\n",
    "            self.topic_word_count = topic_word_count\n",
    "            ##n_k\n",
    "            self.topic_count = topic_count\n",
    "            self.phi = phi\n",
    "        else:\n",
    "            self.topic_word_count = np.zeros([self.K, self.V])\n",
    "            self.topic_count = np.zeros(self.K)\n",
    "            self.phi = np.zeros([self.K, self.V])\n",
    "            \n",
    "        ##n_dk\n",
    "        self.document_topic_count = np.zeros([self.D, self.K])\n",
    "        self.num_document = np.zeros(self.D)\n",
    "        \n",
    "        self.theta = np.zeros([self.D, self.K])\n",
    "        \n",
    "        # for calculating perplexity score, only need to initialize \n",
    "        self.perp_theta = np.zeros([self.D, self.K])\n",
    "        self.perp_topic_assignment = {} \n",
    "        self.perp_document_topic_count = np.zeros([self.D, self.K])\n",
    "        \n",
    "    def initialization(self):\n",
    "        print(\"# of DOCS:\", self.D)                            \n",
    "        print(\"# of TOPICS:\", self.K)\n",
    "        print(\"# of SUBTOPICS:\", self.M)\n",
    "        print(\"# of VOCABS:\", self.V)\n",
    "\n",
    "        ## initialization\n",
    "        for doc_idx, doc in tqdm.tqdm(enumerate(self.documents)):\n",
    "\n",
    "            # because we know which Phecode each icd belongs to, we can just first locate their idx in 1623 phecoe, and then randomly assign \n",
    "            # one of the three subtopics to it.\n",
    "            words = self.documents[doc]\n",
    "\n",
    "            #match the word to phecode idx\n",
    "            patient_phecode_array = icd_phecode_map[words]\n",
    "\n",
    "            random_topics = [np.random.randint(phecode_idx*self.M, phecode_idx*self.M + self.M, size=1)[0] for phecode_idx in patient_phecode_array]\n",
    "            \n",
    "            self.topic_assignment[doc_idx] = random_topics\n",
    "            for word_idx, word in enumerate(self.documents[doc]):\n",
    "                random_topic = random_topics[word_idx]\n",
    "                self.topic_word_count[random_topic,word] += 1\n",
    "                self.document_topic_count[doc_idx,random_topic] += 1 \n",
    "                self.topic_count[random_topic] += 1\n",
    "#                 self.num_document[doc_idx] += 1\n",
    "        print(\"Finish Initialization.\")\n",
    "        \n",
    "    def Gibbs_sampling(self, folder): \n",
    "        ## Collapsed Gibbs Sampling\n",
    "        with tqdm.tqdm(total = self.iteration) as pbar:\n",
    "            for i in range(self.iteration):\n",
    "                for doc_idx, doc in enumerate(self.documents):\n",
    "                    for word_idx, word in enumerate(self.documents[doc]):\n",
    "                        z = self.topic_assignment[doc_idx][word_idx]              \n",
    "                        self.topic_word_count[z,word] -= 1\n",
    "                        self.document_topic_count[doc_idx, z] -= 1\n",
    "                        self.topic_count[z] -= 1\n",
    "#                         self.num_document[doc_idx] -= 1\n",
    "                        \n",
    "                        gamma_id = (self.alpha[doc_idx] + self.document_topic_count[doc_idx]) * ((self.beta + self.topic_word_count[:, word]) / (self.beta * self.V + self.topic_count))\n",
    "                        prob_zid = gamma_id / np.sum(gamma_id)\n",
    "                        new_z = np.random.choice(self.K, p=prob_zid)\n",
    "                        \n",
    "#                         p_z = (self.alpha[doc_idx] + self.document_topic_count[doc_idx]) / \\\n",
    "#                         (np.sum(self.alpha[doc_idx]) + self.num_document[doc_idx]) * \\\n",
    "#                         ((self.beta + self.topic_word_count[:, word]) \\\n",
    "#                         / (self.beta * self.V + self.topic_count))\n",
    "                        \n",
    "#                         new_z = np.random.multinomial(1, p_z / np.sum(p_z)).argmax()\n",
    "\n",
    "                        self.topic_assignment[doc_idx][word_idx] = new_z\n",
    "                        self.topic_word_count[new_z,word] += 1\n",
    "                        self.document_topic_count[doc_idx, new_z] += 1\n",
    "                        self.topic_count[new_z] += 1\n",
    "#                         self.num_document[doc_idx]+= 1\n",
    "                        \n",
    "                ## normalization phi and theta\n",
    "                for k in range(self.K):\n",
    "                    self.phi[k] = (self.beta + self.topic_word_count[k]) / (self.beta * self.V + self.topic_count[k])\n",
    "                for d in range(self.D):\n",
    "                    self.theta[d] = (self.alpha[d] + self.document_topic_count[d]) / (np.sum(self.document_topic_count[d]) + np.sum(self.alpha[d]))\n",
    "                pbar.update(1)\n",
    "        print(\"Finish Training.\")\n",
    "        phi_mtx_path = folder + '/phi_mtx_iter' + str(self.iteration) + '.pkl'\n",
    "        theta_mtx_path = folder + '/theta_mtx_iter' + str(self.iteration) + '.pkl'\n",
    "        with open(phi_mtx_path, 'wb') as f:\n",
    "            pickle.dump(self.phi, f)\n",
    "        with open(theta_mtx_path, 'wb') as f:\n",
    "            pickle.dump(self.theta, f)\n",
    "        \n",
    "    def intialization_perplexity(self):\n",
    "        print('Reinitialize for perplexity calculation, keeping Phi untoched')\n",
    "        print(\"# of DOCS:\", self.D)                            \n",
    "        print(\"# of TOPICS:\", self.K)\n",
    "        print(\"# of SUBTOPICS:\", self.M)\n",
    "        print(\"# of VOCABS:\", self.V)\n",
    "\n",
    "        ## initialization\n",
    "        for doc_idx, doc in tqdm.tqdm(enumerate(self.documents)):\n",
    "\n",
    "            # because we know which Phecode each icd belongs to, we can just first locate their idx in 1623 phecoe, and then randomly assign \n",
    "            # one of the three subtopics to it.\n",
    "            words = self.documents[doc]\n",
    "\n",
    "            #match the word to phecode idx\n",
    "            patient_phecode_array = icd_phecode_map[words]\n",
    "\n",
    "            random_topics = [np.random.randint(phecode_idx*self.M, phecode_idx*self.M + self.M, size=1)[0] for phecode_idx in patient_phecode_array]\n",
    "            \n",
    "            self.perp_topic_assignment[doc_idx] = random_topics\n",
    "            for word_idx, word in enumerate(self.documents[doc]):\n",
    "                random_topic = random_topics[word_idx]\n",
    "                self.perp_document_topic_count[doc_idx,random_topic] += 1 \n",
    "\n",
    "        print(\"Finish Perplexity Initialization.\")\n",
    "        \n",
    "    def Gibbs_sampling_perplexity(self, folder):\n",
    "        with tqdm.tqdm(total = self.iteration) as pbar:\n",
    "            for i in range(self.iteration):\n",
    "                for doc_idx, doc in enumerate(self.documents):\n",
    "                    for word_idx, word in enumerate(self.documents[doc]):\n",
    "                        z = self.perp_topic_assignment[doc_idx][word_idx]               \n",
    "                        self.perp_document_topic_count[doc_idx, z] -= 1\n",
    "                        \n",
    "                        gamma_id = (self.alpha[doc_idx] + self.document_topic_count[doc_idx]) * ((self.beta + self.topic_word_count[:, word]) / (self.beta * self.V + self.topic_count))\n",
    "                        prob_zid = gamma_id / np.sum(gamma_id)\n",
    "                        new_z = np.random.choice(self.K, p=prob_zid)\n",
    "                        \n",
    "                        self.perp_topic_assignment[doc_idx][word_idx] = new_z\n",
    "                        self.perp_document_topic_count[doc_idx, new_z] += 1\n",
    "                    \n",
    "                ## normalization perp_theta\n",
    "                for d in range(self.D):\n",
    "                    self.perp_theta[d] = (self.alpha[d] + self.perp_document_topic_count[d]) / (np.sum(self.perp_document_topic_count[d]) + np.sum(self.alpha[d]))\n",
    "                pbar.update(1)\n",
    "            print(\"Finish Perplexity Testing.\")\n",
    "            perp_theta_mtx_path = folder + '/perp_theta_mtx_iter' + str(self.iteration) + '.pkl'\n",
    "            with open(perp_theta_mtx_path, 'wb') as f:\n",
    "                pickle.dump(self.perp_theta, f)"
   ]
  },
  {
   "cell_type": "code",
   "execution_count": 26,
   "id": "b954f6c1",
   "metadata": {},
   "outputs": [],
   "source": [
    "def perplexity(theta, phi, documents):\n",
    "        perplexity_score_sum = 0\n",
    "        for doc_idx, doc in tqdm.tqdm(enumerate(documents)):\n",
    "            neg_log_p_dw_all_w = 0\n",
    "            for word_idx, word in enumerate(documents[doc]):\n",
    "                p_dw = np.sum(theta[doc] * phi[:, word])\n",
    "                neg_log_p_dw = -np.log(p_dw)\n",
    "                neg_log_p_dw_all_w += neg_log_p_dw\n",
    "            perplexity_score_sum += neg_log_p_dw_all_w\n",
    "        return perplexity_score_sum / len(documents)"
   ]
  },
  {
   "cell_type": "code",
   "execution_count": 19,
   "id": "47d42366",
   "metadata": {},
   "outputs": [
    {
     "data": {
      "text/plain": [
       "(46278, 6239)"
      ]
     },
     "execution_count": 19,
     "metadata": {},
     "output_type": "execute_result"
    }
   ],
   "source": [
    "docs.shape"
   ]
  },
  {
   "cell_type": "code",
   "execution_count": 35,
   "id": "db9b9a5d",
   "metadata": {},
   "outputs": [],
   "source": [
    "# calculate the marginal probability of every ICD = number of documents where ICD i occurs divided by total number of documents\n",
    "docs_copy = docs.copy()\n",
    "\n",
    "# make every icd whose count > 1 equal to 1, to simplify probability calculation\n",
    "docs_copy[docs_copy > 1] = 1\n",
    "\n",
    "marginal_icd_prob_over_docs = docs_copy.sum(axis=0) / docs_copy.shape[0]\n",
    "\n",
    "\n",
    "                          "
   ]
  },
  {
   "cell_type": "code",
   "execution_count": 55,
   "id": "21189294",
   "metadata": {},
   "outputs": [],
   "source": [
    "import itertools\n",
    "co_occurence_matrix = np.zeros((docs.shape[1], docs.shape[1]))\n",
    "for d in range(docs.shape[0]):\n",
    "    idx_occured = np.where(docs[d] != 0)[0]\n",
    "    if len(idx_occured) > 1:\n",
    "        pair_indices = list(itertools.combinations(idx_occured,2))\n",
    "        for pair_ind in pair_indices:\n",
    "            co_occurence_matrix[pair_ind] += 1\n",
    "icd_co_occur_prob = co_occurence_matrix / docs_copy.shape[0]        "
   ]
  },
  {
   "cell_type": "code",
   "execution_count": 88,
   "id": "01e97a78",
   "metadata": {},
   "outputs": [],
   "source": [
    "# with OC-Auto-NPMI, \n",
    "# as in Lau, J. H., Newman, D. & Baldwin, T. Machine reading tea leaves: automatically evaluating topic coherence and topic model quality,\n",
    "# as in Modeling electronic health record data using an end-to-end knowledge-graph-informed topic model \n",
    "def get_topic_coherence(prob, num_top_ICD=3):\n",
    "    sorted_idx = np.argsort(-prob, axis=0)\n",
    "    TC = []\n",
    "    for k in range(prob.shape[1]):\n",
    "        sorted_index_k = sorted_idx[:, k]\n",
    "        TC_k = 0\n",
    "        for idx, ICD in enumerate(sorted_index_k[:num_top_ICD]):  \n",
    "            p_ik = marginal_icd_prob_over_docs[ICD]\n",
    "            tmp = 0\n",
    "            for other_ICD in sorted_index_k[idx + 1 : num_top_ICD]:\n",
    "                p_jk = marginal_icd_prob_over_docs[other_ICD]\n",
    "                p_ijk = icd_co_occur_prob[ICD, other_ICD]\n",
    "                if p_ijk == 0:\n",
    "                    tmp += -1\n",
    "                else:\n",
    "                    tmp += -1 + ( np.log(p_ik) + np.log(p_jk) ) / np.log(p_ijk)\n",
    "            TC_k += tmp\n",
    "        TC.append(TC_k)\n",
    "    TC = np.mean(TC) * 2 / (num_top_ICD * (num_top_ICD - 1))\n",
    "    return TC"
   ]
  },
  {
   "cell_type": "code",
   "execution_count": 86,
   "id": "cd70a425",
   "metadata": {},
   "outputs": [],
   "source": [
    "def get_topic_diversity(prob, K, num_top_ICD=3):\n",
    "    sorted_idx = np.argsort(-prob, axis=0)\n",
    "    top_ICD_set_across_topics = set()\n",
    "    for k in range(K):\n",
    "        sorted_index_k = sorted_idx[:, k]\n",
    "        set_k = sorted_index_k[:num_top_ICD]\n",
    "        top_ICD_set_across_topics = top_ICD_set_across_topics.union(set_k)\n",
    "    TD = len(top_ICD_set_across_topics) / (K * num_top_ICD)\n",
    "    return TD"
   ]
  },
  {
   "cell_type": "code",
   "execution_count": 102,
   "id": "22203ca2",
   "metadata": {},
   "outputs": [
    {
     "name": "stdout",
     "output_type": "stream",
     "text": [
      "# of DOCS: 32394\n",
      "# of TOPICS: 6564\n",
      "# of SUBTOPICS: 4\n",
      "# of VOCABS: 6239\n"
     ]
    },
    {
     "name": "stderr",
     "output_type": "stream",
     "text": [
      "32394it [00:07, 4625.91it/s]\n"
     ]
    },
    {
     "name": "stdout",
     "output_type": "stream",
     "text": [
      "Finish Initialization.\n"
     ]
    },
    {
     "name": "stderr",
     "output_type": "stream",
     "text": [
      "100%|██████████| 1/1 [01:39<00:00, 99.66s/it]\n"
     ]
    },
    {
     "name": "stdout",
     "output_type": "stream",
     "text": [
      "Finish Training.\n"
     ]
    },
    {
     "name": "stderr",
     "output_type": "stream",
     "text": [
      "32394it [00:42, 755.16it/s] \n"
     ]
    },
    {
     "name": "stdout",
     "output_type": "stream",
     "text": [
      "iteration: 0\n",
      "Perplexity score one-shot: 43.672168800637664\n",
      "Topic diversity is: 0.22085110704854763\n",
      "Topic coherence is: -0.9004653666980501\n",
      "Reinitialize for perplexity calculation, keeping Phi untoched\n",
      "# of DOCS: 13884\n",
      "# of TOPICS: 6564\n",
      "# of SUBTOPICS: 4\n",
      "# of VOCABS: 6239\n"
     ]
    },
    {
     "name": "stderr",
     "output_type": "stream",
     "text": [
      "13884it [00:02, 4827.00it/s]\n"
     ]
    },
    {
     "name": "stdout",
     "output_type": "stream",
     "text": [
      "Finish Perplexity Initialization.\n"
     ]
    },
    {
     "name": "stderr",
     "output_type": "stream",
     "text": [
      "100%|██████████| 1/1 [00:42<00:00, 42.68s/it]"
     ]
    },
    {
     "name": "stdout",
     "output_type": "stream",
     "text": [
      "Finish Perplexity Testing.\n"
     ]
    },
    {
     "name": "stderr",
     "output_type": "stream",
     "text": [
      "100%|██████████| 1/1 [00:43<00:00, 43.34s/it]\n",
      "13884it [00:19, 723.49it/s]\n"
     ]
    },
    {
     "name": "stdout",
     "output_type": "stream",
     "text": [
      "Perplexity score real: 42.94634127727027\n",
      "# of DOCS: 32394\n",
      "# of TOPICS: 6564\n",
      "# of SUBTOPICS: 4\n",
      "# of VOCABS: 6239\n"
     ]
    },
    {
     "name": "stderr",
     "output_type": "stream",
     "text": [
      "32394it [00:07, 4162.78it/s]\n"
     ]
    },
    {
     "name": "stdout",
     "output_type": "stream",
     "text": [
      "Finish Initialization.\n"
     ]
    },
    {
     "name": "stderr",
     "output_type": "stream",
     "text": [
      "100%|██████████| 2/2 [03:21<00:00, 100.93s/it]\n"
     ]
    },
    {
     "name": "stdout",
     "output_type": "stream",
     "text": [
      "Finish Training.\n"
     ]
    },
    {
     "name": "stderr",
     "output_type": "stream",
     "text": [
      "32394it [00:44, 731.61it/s]\n"
     ]
    },
    {
     "name": "stdout",
     "output_type": "stream",
     "text": [
      "iteration: 1\n",
      "Perplexity score one-shot: 43.58693844066945\n",
      "Topic diversity is: 0.22811293926467602\n",
      "Topic coherence is: -0.9068396433344738\n",
      "Reinitialize for perplexity calculation, keeping Phi untoched\n",
      "# of DOCS: 13884\n",
      "# of TOPICS: 6564\n",
      "# of SUBTOPICS: 4\n",
      "# of VOCABS: 6239\n"
     ]
    },
    {
     "name": "stderr",
     "output_type": "stream",
     "text": [
      "13884it [00:02, 5230.91it/s]\n"
     ]
    },
    {
     "name": "stdout",
     "output_type": "stream",
     "text": [
      "Finish Perplexity Initialization.\n"
     ]
    },
    {
     "name": "stderr",
     "output_type": "stream",
     "text": [
      "100%|██████████| 2/2 [01:21<00:00, 40.63s/it]"
     ]
    },
    {
     "name": "stdout",
     "output_type": "stream",
     "text": [
      "Finish Perplexity Testing.\n"
     ]
    },
    {
     "name": "stderr",
     "output_type": "stream",
     "text": [
      "100%|██████████| 2/2 [01:21<00:00, 40.96s/it]\n",
      "13884it [00:18, 736.68it/s]\n"
     ]
    },
    {
     "name": "stdout",
     "output_type": "stream",
     "text": [
      "Perplexity score real: 42.88402024776346\n",
      "# of DOCS: 32394\n",
      "# of TOPICS: 6564\n",
      "# of SUBTOPICS: 4\n",
      "# of VOCABS: 6239\n"
     ]
    },
    {
     "name": "stderr",
     "output_type": "stream",
     "text": [
      "32394it [00:06, 4846.29it/s]\n"
     ]
    },
    {
     "name": "stdout",
     "output_type": "stream",
     "text": [
      "Finish Initialization.\n"
     ]
    },
    {
     "name": "stderr",
     "output_type": "stream",
     "text": [
      "100%|██████████| 3/3 [05:13<00:00, 104.37s/it]\n"
     ]
    },
    {
     "name": "stdout",
     "output_type": "stream",
     "text": [
      "Finish Training.\n"
     ]
    },
    {
     "name": "stderr",
     "output_type": "stream",
     "text": [
      "32394it [00:46, 690.83it/s]\n"
     ]
    },
    {
     "name": "stdout",
     "output_type": "stream",
     "text": [
      "iteration: 2\n",
      "Perplexity score one-shot: 43.518707488384074\n",
      "Topic diversity is: 0.23085516961202518\n",
      "Topic coherence is: -0.9119299641789153\n",
      "Reinitialize for perplexity calculation, keeping Phi untoched\n",
      "# of DOCS: 13884\n",
      "# of TOPICS: 6564\n",
      "# of SUBTOPICS: 4\n",
      "# of VOCABS: 6239\n"
     ]
    },
    {
     "name": "stderr",
     "output_type": "stream",
     "text": [
      "13884it [00:03, 4175.25it/s]\n"
     ]
    },
    {
     "name": "stdout",
     "output_type": "stream",
     "text": [
      "Finish Perplexity Initialization.\n"
     ]
    },
    {
     "name": "stderr",
     "output_type": "stream",
     "text": [
      "100%|██████████| 3/3 [02:08<00:00, 42.60s/it]"
     ]
    },
    {
     "name": "stdout",
     "output_type": "stream",
     "text": [
      "Finish Perplexity Testing.\n"
     ]
    },
    {
     "name": "stderr",
     "output_type": "stream",
     "text": [
      "100%|██████████| 3/3 [02:09<00:00, 43.02s/it]\n",
      "13884it [00:19, 694.58it/s]\n"
     ]
    },
    {
     "name": "stdout",
     "output_type": "stream",
     "text": [
      "Perplexity score real: 42.8157360613479\n",
      "# of DOCS: 32394\n",
      "# of TOPICS: 6564\n",
      "# of SUBTOPICS: 4\n",
      "# of VOCABS: 6239\n"
     ]
    },
    {
     "name": "stderr",
     "output_type": "stream",
     "text": [
      "32394it [00:07, 4199.43it/s]\n"
     ]
    },
    {
     "name": "stdout",
     "output_type": "stream",
     "text": [
      "Finish Initialization.\n"
     ]
    },
    {
     "name": "stderr",
     "output_type": "stream",
     "text": [
      "100%|██████████| 4/4 [06:44<00:00, 101.21s/it]\n"
     ]
    },
    {
     "name": "stdout",
     "output_type": "stream",
     "text": [
      "Finish Training.\n"
     ]
    },
    {
     "name": "stderr",
     "output_type": "stream",
     "text": [
      "32394it [00:46, 699.69it/s]\n"
     ]
    },
    {
     "name": "stdout",
     "output_type": "stream",
     "text": [
      "iteration: 3\n",
      "Perplexity score one-shot: 43.471732803926976\n",
      "Topic diversity is: 0.23476538695917124\n",
      "Topic coherence is: -0.9143185266991035\n",
      "Reinitialize for perplexity calculation, keeping Phi untoched\n",
      "# of DOCS: 13884\n",
      "# of TOPICS: 6564\n",
      "# of SUBTOPICS: 4\n",
      "# of VOCABS: 6239\n"
     ]
    },
    {
     "name": "stderr",
     "output_type": "stream",
     "text": [
      "13884it [00:02, 4706.01it/s]\n"
     ]
    },
    {
     "name": "stdout",
     "output_type": "stream",
     "text": [
      "Finish Perplexity Initialization.\n"
     ]
    },
    {
     "name": "stderr",
     "output_type": "stream",
     "text": [
      "100%|██████████| 4/4 [02:48<00:00, 41.90s/it]"
     ]
    },
    {
     "name": "stdout",
     "output_type": "stream",
     "text": [
      "Finish Perplexity Testing.\n"
     ]
    },
    {
     "name": "stderr",
     "output_type": "stream",
     "text": [
      "100%|██████████| 4/4 [02:49<00:00, 42.27s/it]\n",
      "13884it [00:19, 694.97it/s]\n"
     ]
    },
    {
     "name": "stdout",
     "output_type": "stream",
     "text": [
      "Perplexity score real: 42.77530502083011\n",
      "# of DOCS: 32394\n",
      "# of TOPICS: 6564\n",
      "# of SUBTOPICS: 4\n",
      "# of VOCABS: 6239\n"
     ]
    },
    {
     "name": "stderr",
     "output_type": "stream",
     "text": [
      "32394it [00:07, 4203.55it/s]\n"
     ]
    },
    {
     "name": "stdout",
     "output_type": "stream",
     "text": [
      "Finish Initialization.\n"
     ]
    },
    {
     "name": "stderr",
     "output_type": "stream",
     "text": [
      "100%|██████████| 5/5 [08:24<00:00, 101.00s/it]\n"
     ]
    },
    {
     "name": "stdout",
     "output_type": "stream",
     "text": [
      "Finish Training.\n"
     ]
    },
    {
     "name": "stderr",
     "output_type": "stream",
     "text": [
      "32394it [00:47, 680.73it/s]\n"
     ]
    },
    {
     "name": "stdout",
     "output_type": "stream",
     "text": [
      "iteration: 4\n",
      "Perplexity score one-shot: 43.40967584231299\n",
      "Topic diversity is: 0.2360857200893764\n",
      "Topic coherence is: -0.9215293801842025\n",
      "Reinitialize for perplexity calculation, keeping Phi untoched\n",
      "# of DOCS: 13884\n",
      "# of TOPICS: 6564\n",
      "# of SUBTOPICS: 4\n",
      "# of VOCABS: 6239\n"
     ]
    },
    {
     "name": "stderr",
     "output_type": "stream",
     "text": [
      "13884it [00:03, 4608.35it/s]\n"
     ]
    },
    {
     "name": "stdout",
     "output_type": "stream",
     "text": [
      "Finish Perplexity Initialization.\n"
     ]
    },
    {
     "name": "stderr",
     "output_type": "stream",
     "text": [
      "100%|██████████| 5/5 [03:28<00:00, 41.80s/it]"
     ]
    },
    {
     "name": "stdout",
     "output_type": "stream",
     "text": [
      "Finish Perplexity Testing.\n"
     ]
    },
    {
     "name": "stderr",
     "output_type": "stream",
     "text": [
      "100%|██████████| 5/5 [03:29<00:00, 41.94s/it]\n",
      "13884it [00:19, 704.36it/s]\n"
     ]
    },
    {
     "name": "stdout",
     "output_type": "stream",
     "text": [
      "Perplexity score real: 42.71664683794687\n",
      "# of DOCS: 32394\n",
      "# of TOPICS: 6564\n",
      "# of SUBTOPICS: 4\n",
      "# of VOCABS: 6239\n"
     ]
    },
    {
     "name": "stderr",
     "output_type": "stream",
     "text": [
      "32394it [00:07, 4482.75it/s]\n"
     ]
    },
    {
     "name": "stdout",
     "output_type": "stream",
     "text": [
      "Finish Initialization.\n"
     ]
    },
    {
     "name": "stderr",
     "output_type": "stream",
     "text": [
      "100%|██████████| 6/6 [10:06<00:00, 101.08s/it]\n"
     ]
    },
    {
     "name": "stdout",
     "output_type": "stream",
     "text": [
      "Finish Training.\n"
     ]
    },
    {
     "name": "stderr",
     "output_type": "stream",
     "text": [
      "32394it [00:46, 699.45it/s]\n"
     ]
    },
    {
     "name": "stdout",
     "output_type": "stream",
     "text": [
      "iteration: 5\n",
      "Perplexity score one-shot: 43.354463323328766\n",
      "Topic diversity is: 0.2357810278285598\n",
      "Topic coherence is: -0.926790889435165\n",
      "Reinitialize for perplexity calculation, keeping Phi untoched\n",
      "# of DOCS: 13884\n",
      "# of TOPICS: 6564\n",
      "# of SUBTOPICS: 4\n",
      "# of VOCABS: 6239\n"
     ]
    },
    {
     "name": "stderr",
     "output_type": "stream",
     "text": [
      "13884it [00:02, 4876.80it/s]\n"
     ]
    },
    {
     "name": "stdout",
     "output_type": "stream",
     "text": [
      "Finish Perplexity Initialization.\n"
     ]
    },
    {
     "name": "stderr",
     "output_type": "stream",
     "text": [
      "100%|██████████| 6/6 [04:37<00:00, 47.53s/it]"
     ]
    },
    {
     "name": "stdout",
     "output_type": "stream",
     "text": [
      "Finish Perplexity Testing.\n"
     ]
    },
    {
     "name": "stderr",
     "output_type": "stream",
     "text": [
      "100%|██████████| 6/6 [04:38<00:00, 46.40s/it]\n",
      "13884it [00:19, 702.30it/s]\n"
     ]
    },
    {
     "name": "stdout",
     "output_type": "stream",
     "text": [
      "Perplexity score real: 42.65847880020467\n",
      "# of DOCS: 32394\n",
      "# of TOPICS: 6564\n",
      "# of SUBTOPICS: 4\n",
      "# of VOCABS: 6239\n"
     ]
    },
    {
     "name": "stderr",
     "output_type": "stream",
     "text": [
      "32394it [00:10, 3092.06it/s]\n"
     ]
    },
    {
     "name": "stdout",
     "output_type": "stream",
     "text": [
      "Finish Initialization.\n"
     ]
    },
    {
     "name": "stderr",
     "output_type": "stream",
     "text": [
      "100%|██████████| 7/7 [12:43<00:00, 109.08s/it]\n"
     ]
    },
    {
     "name": "stdout",
     "output_type": "stream",
     "text": [
      "Finish Training.\n"
     ]
    },
    {
     "name": "stderr",
     "output_type": "stream",
     "text": [
      "32394it [00:46, 703.05it/s]\n"
     ]
    },
    {
     "name": "stdout",
     "output_type": "stream",
     "text": [
      "iteration: 6\n",
      "Perplexity score one-shot: 43.3091966562461\n",
      "Topic diversity is: 0.23908186065407272\n",
      "Topic coherence is: -0.9249951159066733\n",
      "Reinitialize for perplexity calculation, keeping Phi untoched\n",
      "# of DOCS: 13884\n",
      "# of TOPICS: 6564\n",
      "# of SUBTOPICS: 4\n",
      "# of VOCABS: 6239\n"
     ]
    },
    {
     "name": "stderr",
     "output_type": "stream",
     "text": [
      "13884it [00:03, 4496.58it/s]\n"
     ]
    },
    {
     "name": "stdout",
     "output_type": "stream",
     "text": [
      "Finish Perplexity Initialization.\n"
     ]
    },
    {
     "name": "stderr",
     "output_type": "stream",
     "text": [
      "100%|██████████| 7/7 [04:58<00:00, 42.26s/it]"
     ]
    },
    {
     "name": "stdout",
     "output_type": "stream",
     "text": [
      "Finish Perplexity Testing.\n"
     ]
    },
    {
     "name": "stderr",
     "output_type": "stream",
     "text": [
      "100%|██████████| 7/7 [04:58<00:00, 42.68s/it]\n",
      "13884it [00:18, 730.81it/s]\n"
     ]
    },
    {
     "name": "stdout",
     "output_type": "stream",
     "text": [
      "Perplexity score real: 42.61971823204519\n",
      "# of DOCS: 32394\n",
      "# of TOPICS: 6564\n",
      "# of SUBTOPICS: 4\n",
      "# of VOCABS: 6239\n"
     ]
    },
    {
     "name": "stderr",
     "output_type": "stream",
     "text": [
      "32394it [00:07, 4297.93it/s]\n"
     ]
    },
    {
     "name": "stdout",
     "output_type": "stream",
     "text": [
      "Finish Initialization.\n"
     ]
    },
    {
     "name": "stderr",
     "output_type": "stream",
     "text": [
      "100%|██████████| 8/8 [13:29<00:00, 101.18s/it]\n"
     ]
    },
    {
     "name": "stdout",
     "output_type": "stream",
     "text": [
      "Finish Training.\n"
     ]
    },
    {
     "name": "stderr",
     "output_type": "stream",
     "text": [
      "32394it [00:48, 673.84it/s]\n"
     ]
    },
    {
     "name": "stdout",
     "output_type": "stream",
     "text": [
      "iteration: 7\n",
      "Perplexity score one-shot: 43.27729986985176\n",
      "Topic diversity is: 0.23989437334958358\n",
      "Topic coherence is: -0.9290753619295452\n",
      "Reinitialize for perplexity calculation, keeping Phi untoched\n",
      "# of DOCS: 13884\n",
      "# of TOPICS: 6564\n",
      "# of SUBTOPICS: 4\n",
      "# of VOCABS: 6239\n"
     ]
    },
    {
     "name": "stderr",
     "output_type": "stream",
     "text": [
      "13884it [00:02, 4691.35it/s]\n"
     ]
    },
    {
     "name": "stdout",
     "output_type": "stream",
     "text": [
      "Finish Perplexity Initialization.\n"
     ]
    },
    {
     "name": "stderr",
     "output_type": "stream",
     "text": [
      "100%|██████████| 8/8 [05:40<00:00, 42.61s/it]"
     ]
    },
    {
     "name": "stdout",
     "output_type": "stream",
     "text": [
      "Finish Perplexity Testing.\n"
     ]
    },
    {
     "name": "stderr",
     "output_type": "stream",
     "text": [
      "100%|██████████| 8/8 [05:41<00:00, 42.64s/it]\n",
      "13884it [00:20, 688.19it/s]\n"
     ]
    },
    {
     "name": "stdout",
     "output_type": "stream",
     "text": [
      "Perplexity score real: 42.592027619762085\n",
      "# of DOCS: 32394\n",
      "# of TOPICS: 6564\n",
      "# of SUBTOPICS: 4\n",
      "# of VOCABS: 6239\n"
     ]
    },
    {
     "name": "stderr",
     "output_type": "stream",
     "text": [
      "32394it [00:07, 4114.16it/s]\n"
     ]
    },
    {
     "name": "stdout",
     "output_type": "stream",
     "text": [
      "Finish Initialization.\n"
     ]
    },
    {
     "name": "stderr",
     "output_type": "stream",
     "text": [
      "100%|██████████| 9/9 [15:05<00:00, 100.64s/it]\n"
     ]
    },
    {
     "name": "stdout",
     "output_type": "stream",
     "text": [
      "Finish Training.\n"
     ]
    },
    {
     "name": "stderr",
     "output_type": "stream",
     "text": [
      "32394it [00:46, 701.94it/s]\n"
     ]
    },
    {
     "name": "stdout",
     "output_type": "stream",
     "text": [
      "iteration: 8\n",
      "Perplexity score one-shot: 43.252161837273235\n",
      "Topic diversity is: 0.24238269347958563\n",
      "Topic coherence is: -0.9274844183210443\n",
      "Reinitialize for perplexity calculation, keeping Phi untoched\n",
      "# of DOCS: 13884\n",
      "# of TOPICS: 6564\n",
      "# of SUBTOPICS: 4\n",
      "# of VOCABS: 6239\n"
     ]
    },
    {
     "name": "stderr",
     "output_type": "stream",
     "text": [
      "13884it [00:02, 4648.78it/s]\n"
     ]
    },
    {
     "name": "stdout",
     "output_type": "stream",
     "text": [
      "Finish Perplexity Initialization.\n"
     ]
    },
    {
     "name": "stderr",
     "output_type": "stream",
     "text": [
      "100%|██████████| 9/9 [06:15<00:00, 41.29s/it]"
     ]
    },
    {
     "name": "stdout",
     "output_type": "stream",
     "text": [
      "Finish Perplexity Testing.\n"
     ]
    },
    {
     "name": "stderr",
     "output_type": "stream",
     "text": [
      "100%|██████████| 9/9 [06:16<00:00, 41.79s/it]\n",
      "13884it [00:19, 722.25it/s]\n"
     ]
    },
    {
     "name": "stdout",
     "output_type": "stream",
     "text": [
      "Perplexity score real: 42.57045355406115\n",
      "# of DOCS: 32394\n",
      "# of TOPICS: 6564\n",
      "# of SUBTOPICS: 4\n",
      "# of VOCABS: 6239\n"
     ]
    },
    {
     "name": "stderr",
     "output_type": "stream",
     "text": [
      "32394it [00:07, 4402.86it/s]\n"
     ]
    },
    {
     "name": "stdout",
     "output_type": "stream",
     "text": [
      "Finish Initialization.\n"
     ]
    },
    {
     "name": "stderr",
     "output_type": "stream",
     "text": [
      "100%|██████████| 10/10 [17:05<00:00, 102.59s/it]\n"
     ]
    },
    {
     "name": "stdout",
     "output_type": "stream",
     "text": [
      "Finish Training.\n"
     ]
    },
    {
     "name": "stderr",
     "output_type": "stream",
     "text": [
      "32394it [00:46, 694.46it/s]\n"
     ]
    },
    {
     "name": "stdout",
     "output_type": "stream",
     "text": [
      "iteration: 9\n",
      "Perplexity score one-shot: 43.19610530829837\n",
      "Topic diversity is: 0.24167174487101362\n",
      "Topic coherence is: -0.9318999771560671\n",
      "Reinitialize for perplexity calculation, keeping Phi untoched\n",
      "# of DOCS: 13884\n",
      "# of TOPICS: 6564\n",
      "# of SUBTOPICS: 4\n",
      "# of VOCABS: 6239\n"
     ]
    },
    {
     "name": "stderr",
     "output_type": "stream",
     "text": [
      "13884it [00:03, 4158.11it/s]\n"
     ]
    },
    {
     "name": "stdout",
     "output_type": "stream",
     "text": [
      "Finish Perplexity Initialization.\n"
     ]
    },
    {
     "name": "stderr",
     "output_type": "stream",
     "text": [
      "100%|██████████| 10/10 [07:10<00:00, 43.01s/it]"
     ]
    },
    {
     "name": "stdout",
     "output_type": "stream",
     "text": [
      "Finish Perplexity Testing.\n"
     ]
    },
    {
     "name": "stderr",
     "output_type": "stream",
     "text": [
      "100%|██████████| 10/10 [07:11<00:00, 43.10s/it]\n",
      "13884it [00:19, 728.89it/s]"
     ]
    },
    {
     "name": "stdout",
     "output_type": "stream",
     "text": [
      "Perplexity score real: 42.519221171834694\n"
     ]
    },
    {
     "name": "stderr",
     "output_type": "stream",
     "text": [
      "\n"
     ]
    }
   ],
   "source": [
    "\n",
    "perplexity_curve_one_shot_1iter = []\n",
    "perplexity_curve_real_1iter = []\n",
    "TD_10iter = []\n",
    "TC_10iter = []\n",
    "for i in range (10):\n",
    "    # for r in [0.1, 0.2, 0.3, 0.4, 0.5, 0.6, 0.7, 0.8, 0.9]:\n",
    "    for r in [0.3]:\n",
    "    # here alpha has 3 subtopics\n",
    "        docs_train, docs_test, alpha_train, alpha_test = train_test_split(docs, alpha_M4, test_size=r, random_state=42)\n",
    "        \n",
    "        # one-shot perplexity score\n",
    "        model = MixEHR_Nest(docs_train, alpha_train.shape[1], alpha_train, beta=0.00001, \n",
    "                            iteration=i+1, # we can change number of iterations here, from 1 to 100\n",
    "                                        # but also need to change the list outside.\n",
    "                            perp=False,\n",
    "                            num_sub_topics=4) # change beta from 0.001 to 0.0001\n",
    "        model.initialization()\n",
    "        model.Gibbs_sampling('zilong_result4')\n",
    "        perp_score_one_shot = perplexity(model.theta, model.phi, model.documents)\n",
    "        perplexity_curve_one_shot_1iter.append(perp_score_one_shot)\n",
    "        # print('test_size: ' + str(0.2))\n",
    "        print('iteration: ' + str(i))\n",
    "        print('Perplexity score one-shot: ' + str(perp_score_one_shot))\n",
    "        \n",
    "        # topic diversity\n",
    "        TD = get_topic_diversity(model.phi.T, alpha_train.shape[1])\n",
    "        TD_10iter.append(TD)\n",
    "        print('Topic diversity is: {}'.format(TD))\n",
    "\n",
    "        # topic coherence\n",
    "        TC = get_topic_coherence(model.phi.T)\n",
    "        TC_10iter.append(TC)\n",
    "        print('Topic coherence is: {}'.format(TC))\n",
    "\n",
    "\n",
    "        # real perplexity score\n",
    "        model_perp = MixEHR_Nest(docs_test, alpha_test.shape[1], alpha_test, beta=0.00001, \n",
    "                                iteration=i+1, \n",
    "                                num_sub_topics=4, \n",
    "                                perp=True, topic_word_count=model.topic_word_count, \n",
    "                                topic_count=model.topic_count, phi=model.phi)\n",
    "        model_perp.intialization_perplexity()\n",
    "        model_perp.Gibbs_sampling_perplexity('zilong_result4')\n",
    "        perp_score_real = perplexity(model_perp.perp_theta, model_perp.phi, model_perp.documents)\n",
    "        perplexity_curve_real_1iter.append(perp_score_real)\n",
    "        \n",
    "        print('Perplexity score real: ' + str(perp_score_real))"
   ]
  },
  {
   "cell_type": "code",
   "execution_count": 103,
   "id": "140aa890",
   "metadata": {},
   "outputs": [
    {
     "data": {
      "text/plain": [
       "[43.672168800637664,\n",
       " 43.58693844066945,\n",
       " 43.518707488384074,\n",
       " 43.471732803926976,\n",
       " 43.40967584231299,\n",
       " 43.354463323328766,\n",
       " 43.3091966562461,\n",
       " 43.27729986985176,\n",
       " 43.252161837273235,\n",
       " 43.19610530829837]"
      ]
     },
     "execution_count": 103,
     "metadata": {},
     "output_type": "execute_result"
    }
   ],
   "source": [
    "perplexity_curve_one_shot_1iter"
   ]
  },
  {
   "cell_type": "code",
   "execution_count": 104,
   "id": "7fbf0fcd",
   "metadata": {},
   "outputs": [
    {
     "data": {
      "text/plain": [
       "[42.94634127727027,\n",
       " 42.88402024776346,\n",
       " 42.8157360613479,\n",
       " 42.77530502083011,\n",
       " 42.71664683794687,\n",
       " 42.65847880020467,\n",
       " 42.61971823204519,\n",
       " 42.592027619762085,\n",
       " 42.57045355406115,\n",
       " 42.519221171834694]"
      ]
     },
     "execution_count": 104,
     "metadata": {},
     "output_type": "execute_result"
    }
   ],
   "source": [
    "perplexity_curve_real_1iter"
   ]
  },
  {
   "cell_type": "code",
   "execution_count": 106,
   "id": "48478141",
   "metadata": {},
   "outputs": [
    {
     "data": {
      "text/plain": [
       "Text(0.5, 1.0, 'MixEHR-Nest, M=4, testsize=0.3, 1-10 iterations')"
      ]
     },
     "execution_count": 106,
     "metadata": {},
     "output_type": "execute_result"
    },
    {
     "data": {
      "image/png": "[encoded data removed]",
      "text/plain": [
       "<Figure size 640x480 with 1 Axes>"
      ]
     },
     "metadata": {},
     "output_type": "display_data"
    }
   ],
   "source": [
    "# plt.plot([0.1, 0.2, 0.3, 0.4, 0.5, 0.6, 0.7, 0.8, 0.9], perplexity_curve_one_shot_5iter[:9], label='one-shot 5iter', marker='^')\n",
    "# plt.plot([0.1, 0.2, 0.3, 0.4, 0.5, 0.6, 0.7, 0.8, 0.9], perplexity_curve_real_5iter[:9], label='on test set 5iter', marker='<')\n",
    "# plt.plot([0.1, 0.2, 0.3, 0.4, 0.5, 0.6, 0.7, 0.8, 0.9], perplexity_curve_one_shot_1iter, label='one-shot 1iter', marker='*')\n",
    "# plt.plot([0.1, 0.2, 0.3, 0.4, 0.5, 0.6, 0.7, 0.8, 0.9], perplexity_curve_real_1iter, label='on test set 1iter', marker='.')\n",
    "plt.plot([1, 2, 3, 4, 5,6,7,8,9,10], perplexity_curve_one_shot_1iter, label='one-shot', marker='*')\n",
    "plt.plot([1, 2, 3, 4, 5,6,7,8,9,10], perplexity_curve_real_1iter, label='on test set', marker='.')\n",
    "plt.legend()\n",
    "# plt.xlabel('test size')\n",
    "plt.xlabel('iterations')\n",
    "plt.ylabel('perplexity score')\n",
    "# plt.title('MixEHR-Nest, 1 vs 5 iteration')\n",
    "plt.title('MixEHR-Nest, M=4, testsize=0.3, 1-10 iterations')"
   ]
  },
  {
   "cell_type": "code",
   "execution_count": 107,
   "id": "c28bfb74",
   "metadata": {},
   "outputs": [
    {
     "data": {
      "text/plain": [
       "Text(0.5, 1.0, 'MixEHR-Nest, M=4, test_size=0.3, 1-10 iterations')"
      ]
     },
     "execution_count": 107,
     "metadata": {},
     "output_type": "execute_result"
    },
    {
     "data": {
      "image/png": "[encoded data removed]",
      "text/plain": [
       "<Figure size 640x480 with 1 Axes>"
      ]
     },
     "metadata": {},
     "output_type": "display_data"
    }
   ],
   "source": [
    "plt.plot([1, 2, 3, 4, 5, 6, 7, 8, 9, 10], TD_10iter, label='topic diversity', marker='*')\n",
    "plt.plot([1, 2, 3, 4, 5, 6, 7, 8, 9, 10], TC_10iter, label='topic coherence', marker='.')\n",
    "plt.legend()\n",
    "# plt.xlabel('test size')\n",
    "plt.xlabel('iterations')\n",
    "# plt.ylabel('perplexity score')\n",
    "# plt.title('MixEHR-Nest, 1 vs 5 iteration')\n",
    "plt.title('MixEHR-Nest, M=4, test_size=0.3, 1-10 iterations')"
   ]
  },
  {
   "cell_type": "code",
   "execution_count": 125,
   "id": "e1ce5990",
   "metadata": {},
   "outputs": [
    {
     "name": "stdout",
     "output_type": "stream",
     "text": [
      "# of DOCS: 32394\n",
      "# of TOPICS: 6564\n",
      "# of SUBTOPICS: 4\n",
      "# of VOCABS: 6239\n"
     ]
    },
    {
     "name": "stderr",
     "output_type": "stream",
     "text": [
      "32394it [00:07, 4086.14it/s]\n"
     ]
    },
    {
     "name": "stdout",
     "output_type": "stream",
     "text": [
      "Finish Initialization.\n"
     ]
    },
    {
     "name": "stderr",
     "output_type": "stream",
     "text": [
      "100%|██████████| 1/1 [01:43<00:00, 103.32s/it]\n"
     ]
    },
    {
     "name": "stdout",
     "output_type": "stream",
     "text": [
      "Finish Training.\n"
     ]
    },
    {
     "name": "stderr",
     "output_type": "stream",
     "text": [
      "32394it [00:47, 687.80it/s]\n"
     ]
    },
    {
     "name": "stdout",
     "output_type": "stream",
     "text": [
      "test_size: 0.2\n",
      "Perplexity score one-shot: 43.11613645187994\n",
      "Topic diversity is: 0.22064797887466991\n",
      "Topic coherence is: -0.8998947487835159\n",
      "Reinitialize for perplexity calculation, keeping Phi untoched\n",
      "# of DOCS: 13884\n",
      "# of TOPICS: 6564\n",
      "# of SUBTOPICS: 4\n",
      "# of VOCABS: 6239\n"
     ]
    },
    {
     "name": "stderr",
     "output_type": "stream",
     "text": [
      "13884it [00:03, 4609.82it/s]\n"
     ]
    },
    {
     "name": "stdout",
     "output_type": "stream",
     "text": [
      "Finish Perplexity Initialization.\n"
     ]
    },
    {
     "name": "stderr",
     "output_type": "stream",
     "text": [
      "100%|██████████| 1/1 [00:43<00:00, 43.41s/it]"
     ]
    },
    {
     "name": "stdout",
     "output_type": "stream",
     "text": [
      "Finish Perplexity Testing.\n"
     ]
    },
    {
     "name": "stderr",
     "output_type": "stream",
     "text": [
      "100%|██████████| 1/1 [00:44<00:00, 44.22s/it]\n",
      "13884it [00:20, 676.58it/s]\n"
     ]
    },
    {
     "name": "stdout",
     "output_type": "stream",
     "text": [
      "Perplexity score real: 44.298925293336815\n",
      "# of DOCS: 32394\n",
      "# of TOPICS: 6564\n",
      "# of SUBTOPICS: 4\n",
      "# of VOCABS: 6239\n"
     ]
    },
    {
     "name": "stderr",
     "output_type": "stream",
     "text": [
      "32394it [00:07, 4378.02it/s]\n"
     ]
    },
    {
     "name": "stdout",
     "output_type": "stream",
     "text": [
      "Finish Initialization.\n"
     ]
    },
    {
     "name": "stderr",
     "output_type": "stream",
     "text": [
      "100%|██████████| 1/1 [01:42<00:00, 102.95s/it]\n"
     ]
    },
    {
     "name": "stdout",
     "output_type": "stream",
     "text": [
      "Finish Training.\n"
     ]
    },
    {
     "name": "stderr",
     "output_type": "stream",
     "text": [
      "32394it [00:46, 697.78it/s]\n"
     ]
    },
    {
     "name": "stdout",
     "output_type": "stream",
     "text": [
      "test_size: 0.2\n",
      "Perplexity score one-shot: 43.24531762125182\n",
      "Topic diversity is: 0.2225269144830388\n",
      "Topic coherence is: -0.9015134271243365\n",
      "Reinitialize for perplexity calculation, keeping Phi untoched\n",
      "# of DOCS: 13884\n",
      "# of TOPICS: 6564\n",
      "# of SUBTOPICS: 4\n",
      "# of VOCABS: 6239\n"
     ]
    },
    {
     "name": "stderr",
     "output_type": "stream",
     "text": [
      "13884it [00:03, 4506.55it/s]\n"
     ]
    },
    {
     "name": "stdout",
     "output_type": "stream",
     "text": [
      "Finish Perplexity Initialization.\n"
     ]
    },
    {
     "name": "stderr",
     "output_type": "stream",
     "text": [
      "100%|██████████| 1/1 [00:43<00:00, 43.36s/it]"
     ]
    },
    {
     "name": "stdout",
     "output_type": "stream",
     "text": [
      "Finish Perplexity Testing.\n"
     ]
    },
    {
     "name": "stderr",
     "output_type": "stream",
     "text": [
      "100%|██████████| 1/1 [00:44<00:00, 44.06s/it]\n",
      "13884it [00:20, 677.93it/s]\n"
     ]
    },
    {
     "name": "stdout",
     "output_type": "stream",
     "text": [
      "Perplexity score real: 43.967705790774524\n",
      "# of DOCS: 32394\n",
      "# of TOPICS: 6564\n",
      "# of SUBTOPICS: 4\n",
      "# of VOCABS: 6239\n"
     ]
    },
    {
     "name": "stderr",
     "output_type": "stream",
     "text": [
      "32394it [00:06, 4641.27it/s]\n"
     ]
    },
    {
     "name": "stdout",
     "output_type": "stream",
     "text": [
      "Finish Initialization.\n"
     ]
    },
    {
     "name": "stderr",
     "output_type": "stream",
     "text": [
      "100%|██████████| 1/1 [01:41<00:00, 101.23s/it]\n"
     ]
    },
    {
     "name": "stdout",
     "output_type": "stream",
     "text": [
      "Finish Training.\n"
     ]
    },
    {
     "name": "stderr",
     "output_type": "stream",
     "text": [
      "32394it [00:45, 714.22it/s]\n"
     ]
    },
    {
     "name": "stdout",
     "output_type": "stream",
     "text": [
      "test_size: 0.2\n",
      "Perplexity score one-shot: 43.10458959794749\n",
      "Topic diversity is: 0.2213081454397725\n",
      "Topic coherence is: -0.900854464724755\n",
      "Reinitialize for perplexity calculation, keeping Phi untoched\n",
      "# of DOCS: 13884\n",
      "# of TOPICS: 6564\n",
      "# of SUBTOPICS: 4\n",
      "# of VOCABS: 6239\n"
     ]
    },
    {
     "name": "stderr",
     "output_type": "stream",
     "text": [
      "13884it [00:03, 4163.88it/s]\n"
     ]
    },
    {
     "name": "stdout",
     "output_type": "stream",
     "text": [
      "Finish Perplexity Initialization.\n"
     ]
    },
    {
     "name": "stderr",
     "output_type": "stream",
     "text": [
      "100%|██████████| 1/1 [00:43<00:00, 43.05s/it]"
     ]
    },
    {
     "name": "stdout",
     "output_type": "stream",
     "text": [
      "Finish Perplexity Testing.\n"
     ]
    },
    {
     "name": "stderr",
     "output_type": "stream",
     "text": [
      "100%|██████████| 1/1 [00:43<00:00, 43.76s/it]\n",
      "13884it [00:20, 676.62it/s]\n"
     ]
    },
    {
     "name": "stdout",
     "output_type": "stream",
     "text": [
      "Perplexity score real: 44.26218063844904\n",
      "# of DOCS: 32394\n",
      "# of TOPICS: 6564\n",
      "# of SUBTOPICS: 4\n",
      "# of VOCABS: 6239\n"
     ]
    },
    {
     "name": "stderr",
     "output_type": "stream",
     "text": [
      "32394it [00:07, 4194.29it/s]\n"
     ]
    },
    {
     "name": "stdout",
     "output_type": "stream",
     "text": [
      "Finish Initialization.\n"
     ]
    },
    {
     "name": "stderr",
     "output_type": "stream",
     "text": [
      "100%|██████████| 1/1 [01:40<00:00, 100.41s/it]\n"
     ]
    },
    {
     "name": "stdout",
     "output_type": "stream",
     "text": [
      "Finish Training.\n"
     ]
    },
    {
     "name": "stderr",
     "output_type": "stream",
     "text": [
      "32394it [00:47, 685.52it/s]\n"
     ]
    },
    {
     "name": "stdout",
     "output_type": "stream",
     "text": [
      "test_size: 0.2\n",
      "Perplexity score one-shot: 43.04026973419691\n",
      "Topic diversity is: 0.22156205565711964\n",
      "Topic coherence is: -0.8976630693791637\n",
      "Reinitialize for perplexity calculation, keeping Phi untoched\n",
      "# of DOCS: 13884\n",
      "# of TOPICS: 6564\n",
      "# of SUBTOPICS: 4\n",
      "# of VOCABS: 6239\n"
     ]
    },
    {
     "name": "stderr",
     "output_type": "stream",
     "text": [
      "13884it [00:03, 4621.94it/s]\n"
     ]
    },
    {
     "name": "stdout",
     "output_type": "stream",
     "text": [
      "Finish Perplexity Initialization.\n"
     ]
    },
    {
     "name": "stderr",
     "output_type": "stream",
     "text": [
      "100%|██████████| 1/1 [00:42<00:00, 42.43s/it]"
     ]
    },
    {
     "name": "stdout",
     "output_type": "stream",
     "text": [
      "Finish Perplexity Testing.\n"
     ]
    },
    {
     "name": "stderr",
     "output_type": "stream",
     "text": [
      "100%|██████████| 1/1 [00:43<00:00, 43.14s/it]\n",
      "13884it [00:20, 685.74it/s]\n"
     ]
    },
    {
     "name": "stdout",
     "output_type": "stream",
     "text": [
      "Perplexity score real: 44.47924546433449\n",
      "# of DOCS: 32394\n",
      "# of TOPICS: 6564\n",
      "# of SUBTOPICS: 4\n",
      "# of VOCABS: 6239\n"
     ]
    },
    {
     "name": "stderr",
     "output_type": "stream",
     "text": [
      "32394it [00:07, 4469.71it/s]\n"
     ]
    },
    {
     "name": "stdout",
     "output_type": "stream",
     "text": [
      "Finish Initialization.\n"
     ]
    },
    {
     "name": "stderr",
     "output_type": "stream",
     "text": [
      "100%|██████████| 1/1 [01:38<00:00, 98.40s/it]\n"
     ]
    },
    {
     "name": "stdout",
     "output_type": "stream",
     "text": [
      "Finish Training.\n"
     ]
    },
    {
     "name": "stderr",
     "output_type": "stream",
     "text": [
      "32394it [00:46, 692.62it/s]\n"
     ]
    },
    {
     "name": "stdout",
     "output_type": "stream",
     "text": [
      "test_size: 0.2\n",
      "Perplexity score one-shot: 42.88242553258988\n",
      "Topic diversity is: 0.22064797887466991\n",
      "Topic coherence is: -0.9033980145653829\n",
      "Reinitialize for perplexity calculation, keeping Phi untoched\n",
      "# of DOCS: 13884\n",
      "# of TOPICS: 6564\n",
      "# of SUBTOPICS: 4\n",
      "# of VOCABS: 6239\n"
     ]
    },
    {
     "name": "stderr",
     "output_type": "stream",
     "text": [
      "13884it [00:02, 4818.38it/s]\n"
     ]
    },
    {
     "name": "stdout",
     "output_type": "stream",
     "text": [
      "Finish Perplexity Initialization.\n"
     ]
    },
    {
     "name": "stderr",
     "output_type": "stream",
     "text": [
      "100%|██████████| 1/1 [00:43<00:00, 43.01s/it]"
     ]
    },
    {
     "name": "stdout",
     "output_type": "stream",
     "text": [
      "Finish Perplexity Testing.\n"
     ]
    },
    {
     "name": "stderr",
     "output_type": "stream",
     "text": [
      "100%|██████████| 1/1 [00:43<00:00, 43.69s/it]\n",
      "13884it [00:20, 686.78it/s]"
     ]
    },
    {
     "name": "stdout",
     "output_type": "stream",
     "text": [
      "Perplexity score real: 44.828441227826616\n"
     ]
    },
    {
     "name": "stderr",
     "output_type": "stream",
     "text": [
      "\n"
     ]
    }
   ],
   "source": [
    "five_fold_perplexity_one_shot = []\n",
    "five_fold_perplexity_real = []\n",
    "five_fold_train_indices = []\n",
    "five_fold_test_indices = []\n",
    "fivefold_TD = []\n",
    "fivefold_TC = []\n",
    "\n",
    "\n",
    "# here I only have 5 different random states of train_test_split, still 1 iteration\n",
    "for i in range(5):\n",
    "    docs_train, docs_test, alpha_train, alpha_test, train_indices, test_indices = train_test_split(docs, alpha_M4, np.arange(alpha_M4.shape[0]), test_size=0.3,\n",
    "                                                                                                    random_state=i)\n",
    "    \n",
    "    five_fold_train_indices.append(train_indices)\n",
    "    five_fold_test_indices.append(test_indices)\n",
    "    \n",
    "    # one-shot perplexity score\n",
    "    model = MixEHR_Nest(docs_train, alpha_train.shape[1], alpha_train, beta=0.00001, iteration=1, perp=False,\n",
    "                        num_sub_topics=4) # change beta from 0.001 to 0.0001\n",
    "    model.initialization()\n",
    "    model.Gibbs_sampling('zilong_result4')\n",
    "    perp_score_one_shot = perplexity(model.theta, model.phi, model.documents)\n",
    "    five_fold_perplexity_one_shot.append(perp_score_one_shot)\n",
    "    print('test_size: ' + str(0.2))\n",
    "    print('Perplexity score one-shot: ' + str(perp_score_one_shot))\n",
    "    \n",
    "    # topic diversity\n",
    "    TD = get_topic_diversity(model.phi.T, alpha_train.shape[1])\n",
    "    fivefold_TD.append(TD)\n",
    "    print('Topic diversity is: {}'.format(TD))\n",
    "\n",
    "    # topic coherence\n",
    "    TC = get_topic_coherence(model.phi.T)\n",
    "    fivefold_TC.append(TC)\n",
    "    print('Topic coherence is: {}'.format(TC))\n",
    "    \n",
    "    # real perplexity score\n",
    "    model_perp = MixEHR_Nest(docs_test, alpha_test.shape[1], alpha_test, beta=0.00001, iteration=1, num_sub_topics=4, \n",
    "                             perp=True, topic_word_count=model.topic_word_count, \n",
    "                             topic_count=model.topic_count, phi=model.phi)\n",
    "    model_perp.intialization_perplexity()\n",
    "    model_perp.Gibbs_sampling_perplexity('zilong_result4')\n",
    "    perp_score_real = perplexity(model_perp.perp_theta, model_perp.phi, model_perp.documents)\n",
    "    five_fold_perplexity_real.append(perp_score_real)\n",
    "    \n",
    "    print('Perplexity score real: ' + str(perp_score_real))"
   ]
  },
  {
   "cell_type": "code",
   "execution_count": 126,
   "id": "7715d0cc",
   "metadata": {},
   "outputs": [
    {
     "data": {
      "text/plain": [
       "[43.11613645187994,\n",
       " 43.24531762125182,\n",
       " 43.10458959794749,\n",
       " 43.04026973419691,\n",
       " 42.88242553258988]"
      ]
     },
     "execution_count": 126,
     "metadata": {},
     "output_type": "execute_result"
    }
   ],
   "source": [
    "five_fold_perplexity_one_shot"
   ]
  },
  {
   "cell_type": "code",
   "execution_count": 127,
   "id": "e0b7ddd2",
   "metadata": {},
   "outputs": [
    {
     "data": {
      "text/plain": [
       "[44.298925293336815,\n",
       " 43.967705790774524,\n",
       " 44.26218063844904,\n",
       " 44.47924546433449,\n",
       " 44.828441227826616]"
      ]
     },
     "execution_count": 127,
     "metadata": {},
     "output_type": "execute_result"
    }
   ],
   "source": [
    "five_fold_perplexity_real"
   ]
  },
  {
   "cell_type": "code",
   "execution_count": 112,
   "id": "ad24b042",
   "metadata": {},
   "outputs": [
    {
     "data": {
      "text/plain": [
       "[array([18277, 46157, 44795, ..., 42613, 43567,  2732]),\n",
       " array([40786,  1856, 19902, ...,  5192, 12172, 33003]),\n",
       " array([  774, 12983, 26095, ...,  6637, 35343, 23720]),\n",
       " array([42991, 24483,  6117, ..., 11513,  1688,  5994]),\n",
       " array([43358, 28704, 25485, ..., 27063,  8366, 17530])]"
      ]
     },
     "execution_count": 112,
     "metadata": {},
     "output_type": "execute_result"
    }
   ],
   "source": [
    "five_fold_train_indices"
   ]
  },
  {
   "cell_type": "code",
   "execution_count": 14,
   "id": "4d7ca911-b2cd-4d40-a89d-58368e13c863",
   "metadata": {},
   "outputs": [],
   "source": [
    "def select_top_ICD(prob, vocab, selected_topics, folder, num_top_ICD = 3):\n",
    "    K = len(selected_topics)\n",
    "    sns.set(rc={'figure.figsize':(5,8)})\n",
    "    top_ICD_topic = np.zeros((num_top_ICD * K, K))\n",
    "    top_code_list = []\n",
    "    binary_indicator = []\n",
    "    sorted_idx = np.argsort(-prob, axis=0)\n",
    "    for k in range(K):\n",
    "        sorted_index_k = sorted_idx[:, k]\n",
    "        for idx, ICD in enumerate(sorted_index_k[:num_top_ICD]): \n",
    "            top_code_list.append(vocab[ICD])\n",
    "            if icd_phecode_map[ICD] * 3 == selected_topics[k] - (k % num_top_ICD):\n",
    "                binary_indicator.append(1)\n",
    "            else:\n",
    "                binary_indicator.append(0)\n",
    "   \n",
    "            top_ICD_topic[idx + k * num_top_ICD] = prob[ICD]\n",
    "            \n",
    "    top_ICD_topic /= np.sum(top_ICD_topic, axis=0)\n",
    "    binary_indicator = np.array(binary_indicator)[:, np.newaxis]\n",
    "    sns.set(font_scale=0.8)\n",
    "    \n",
    "    f, axs = plt.subplots(1, 2, gridspec_kw={'wspace': 0, 'width_ratios': [1, K]})\n",
    "    \n",
    "    sns.heatmap(binary_indicator, linewidths=.1, \n",
    "                cmap='Blues', xticklabels=False, yticklabels=False, ax=axs[0], cbar=False)\n",
    "    axs[1].tick_params(left=False, right=True, labelright=True, labelleft=False, labelrotation=0)\n",
    "    sns.heatmap(top_ICD_topic, \n",
    "                cmap='OrRd',\n",
    "                xticklabels= [\"Schizophrenia-1\", \"Schizophrenia-2\", \"Schizophrenia-3\",\n",
    "                              \"CHF-1\", \"CHF-2\", \"CHF-3\",\n",
    "                              \"Type 1 Diabetes-1\",\"Type 1 Diabetes-2\",\"Type 1 Diabetes-3\",\n",
    "                              \"Asthma-1\",\"Asthma-2\",\"Asthma-3\"],\n",
    "                yticklabels=top_code_list, \n",
    "                linewidths=.1, ax=axs[1], cbar=False)#,cbar_kws={\"shrink\": 0.5, 'location': 'left'})\n",
    "    plt.savefig(folder + '/lda_result.png', dpi=200, bbox_inches='tight')\n",
    "    plt.show()"
   ]
  },
  {
   "cell_type": "code",
   "execution_count": 15,
   "id": "eda668e6-8df6-4d44-9ca5-d33797718ee5",
   "metadata": {},
   "outputs": [],
   "source": [
    "with open ('matrix2/vocab_idx_map.pkl', 'rb') as f1:\n",
    "    vocab_idx_meta = pickle.load(f1)\n",
    "with open('matrix2/idx_vocab_map.pkl', 'rb') as f2:\n",
    "    idx_vocab_meta = pickle.load(f2)\n",
    "with open('matrix2/patient_idx_map.pkl', 'rb') as f3:\n",
    "    patient_idx_meta = pickle.load(f3)\n",
    "with open('matrix2/idx_patient_map.pkl', 'rb') as f4:\n",
    "    idx_patient_meta = pickle.load(f4)\n",
    "with open('matrix2/phecode_list.pkl', 'rb') as f5:\n",
    "    PheCode = pickle.load(f5)"
   ]
  },
  {
   "cell_type": "code",
   "execution_count": 16,
   "id": "1f4aec12-2cdd-4437-8a02-799b328423eb",
   "metadata": {},
   "outputs": [],
   "source": [
    "## PheCode list\n",
    "#{295.1: \"Schizophrenia\", 428.1: \"Congestive heart failure (CHF)\",250.1: \"Type 1 Diabetes\",495: \"Asthma\"}\n",
    "\n",
    "ICD_meta = pd.read_csv(\"D_ICD_DIAGNOSES.csv.gz\", header=0)\n",
    "ICD_meta = ICD_meta[['ICD9_CODE','SHORT_TITLE']]\n",
    "# ICD_meta['ICD9_CODE'] = ICD_meta['ICD9_CODE'].str.lstrip('0')\n",
    "ICD_meta['Compound_ID'] = ICD_meta['ICD9_CODE'] + \"-\" + ICD_meta['SHORT_TITLE']\n",
    "\n",
    "ICD_topic_prob = model.phi.T\n",
    "ICD_list = list(range(ICD_topic_prob.shape[0]))\n",
    "ICD_code_list = [idx_vocab_meta[key] for key in ICD_list]"
   ]
  },
  {
   "cell_type": "code",
   "execution_count": 17,
   "id": "157ca07e",
   "metadata": {},
   "outputs": [],
   "source": [
    "vocab = []   \n",
    "for key in ICD_code_list:\n",
    "    value = ICD_meta[ICD_meta['ICD9_CODE'] == str(key).replace('.','')]['Compound_ID'].tolist()\n",
    "    if value == []:\n",
    "        value = [str(key)] \n",
    "    vocab.append(value[0])"
   ]
  },
  {
   "cell_type": "code",
   "execution_count": 143,
   "id": "174708d2",
   "metadata": {},
   "outputs": [
    {
     "data": {
      "image/png": "[encoded data removed]",
      "text/plain": [
       "<Figure size 500x800 with 2 Axes>"
      ]
     },
     "metadata": {},
     "output_type": "display_data"
    }
   ],
   "source": [
    "## Get index (including subtopics) of selected PheCode\n",
    "topics = [8.5, 428.1, 250.1, 495]\n",
    "# topics = [250.2]\n",
    "phecode_idx = [np.where(PheCode==selected)[0][0] for selected in topics]\n",
    "selected_topics = []\n",
    "for topic_idx in phecode_idx:\n",
    "    sub_topics = [3 * topic_idx, 3 * topic_idx+1, 3 * topic_idx+2]\n",
    "    selected_topics.extend(sub_topics)\n",
    "    \n",
    "# topics = [295.1, 428.1, 250.2, 495]\n",
    "\n",
    "\n",
    "select_top_ICD(model.phi.T[:,selected_topics], vocab, selected_topics, 'zilong_result4')"
   ]
  },
  {
   "cell_type": "code",
   "execution_count": 225,
   "id": "fa7fe525",
   "metadata": {},
   "outputs": [],
   "source": [
    "# LDA\n",
    "# class LDA(object):\n",
    "#     def __init__(self, docs, num_topics, alpha, beta, iteration, perp=False, \n",
    "#                 topic_word_count=None, topic_count=None, phi=None):\n",
    "#         self.iteration = iteration\n",
    "#         self.D = docs.shape[0]\n",
    "#         self.V = docs.shape[1] \n",
    "#         self.K = num_topics \n",
    "        \n",
    "#         self.alpha = np.ones(self.K)\n",
    "#         self.beta = beta\n",
    "        \n",
    "#         self.documents = {}\n",
    "#         for i, doc in enumerate(docs):\n",
    "#             tmp = []\n",
    "#             for j, word_freq in enumerate(doc):\n",
    "#                 if(word_freq==0):\n",
    "#                     continue\n",
    "#                 while(word_freq!=0):\n",
    "#                     tmp.append(j)\n",
    "#                     word_freq -=1\n",
    "#             self.documents[i] = tmp\n",
    "#             random.shuffle(self.documents[i])\n",
    "        \n",
    "#         self.topic_assignment = {} \n",
    "# #         ## n_wk.T\n",
    "# #         self.topic_word_count = np.zeros([self.K, self.V])\n",
    "# #         ##n_dk\n",
    "# #         self.document_topic_count = np.zeros([self.D, self.K]) \n",
    "# #         ##n_k\n",
    "# #         self.topic_count = np.zeros(self.K)\n",
    "        \n",
    "        \n",
    "# #         self.phi = np.zeros([self.K, self.M])\n",
    "# #         self.theta = np.zeros([self.D, self.K])\n",
    "        \n",
    "#         if perp:\n",
    "#             ## n_wk.T\n",
    "#             self.topic_word_count = topic_word_count\n",
    "#             ##n_k\n",
    "#             self.topic_count = topic_count\n",
    "#             self.phi = phi\n",
    "#         else:\n",
    "#             self.topic_word_count = np.zeros([self.K, self.V])\n",
    "#             self.topic_count = np.zeros(self.K)\n",
    "#             self.phi = np.zeros([self.K, self.V])\n",
    "            \n",
    "#         ##n_dk\n",
    "#         self.document_topic_count = np.zeros([self.D, self.K])\n",
    "        \n",
    "        \n",
    "#         self.theta = np.zeros([self.D, self.K])\n",
    "        \n",
    "#         # for calculating perplexity score, only need to initialize \n",
    "#         self.perp_theta = np.zeros([self.D, self.K])\n",
    "#         self.perp_topic_assignment = {} \n",
    "#         self.perp_document_topic_count = np.zeros([self.D, self.K])\n",
    "\n",
    "        \n",
    "#         ##words per document\n",
    "#         self.num_document = np.zeros(self.D)\n",
    "        \n",
    "#         print(\"# of DOCS:\", self.D)                            \n",
    "#         print(\"# of TOPICS:\", self.K)\n",
    "#         print(\"# of VOCABS:\", self.V)\n",
    "        \n",
    "#         ## initialization\n",
    "#         for doc_idx, doc in enumerate(self.documents):\n",
    "#             random_topics = np.random.randint(0, self.K, size=len(self.documents[doc]))\n",
    "#             self.topic_assignment[doc_idx] = random_topics\n",
    "#             for word_idx, word in enumerate(self.documents[doc]):\n",
    "#                 random_topic = random_topics[word_idx]\n",
    "#                 self.topic_word_count[random_topic, word] += 1\n",
    "#                 self.document_topic_count[doc_idx, random_topic] += 1 \n",
    "#                 self.topic_count[random_topic] += 1\n",
    "#                 self.num_document[doc_idx] += 1\n",
    "#         print(\"Finish Initialization.\")\n",
    "        \n",
    "#     def Gibbs_sampling(self):\n",
    "#         ## Collapsed Gibbs Sampling\n",
    "#         with tqdm.tqdm(total = self.iteration) as pbar:\n",
    "#             for i in range(self.iteration):\n",
    "#                 for doc_idx, doc in enumerate(self.documents):\n",
    "#                     for word_idx, word in enumerate(self.documents[doc]):\n",
    "#                         z = self.topic_assignment[doc_idx][word_idx]              \n",
    "#                         self.topic_word_count[z,word] -= 1\n",
    "#                         self.document_topic_count[doc_idx, z] -= 1\n",
    "#                         self.topic_count[z] -= 1\n",
    "#                         self.num_document[doc_idx] -= 1\n",
    "\n",
    "#                         p_z = (self.alpha + self.document_topic_count[doc_idx]) / \\\n",
    "#                         (np.sum(self.alpha) + self.num_document[doc_idx]) * \\\n",
    "#                         ((self.beta + self.topic_word_count[:, word]) \\\n",
    "#                         / (self.beta * self.V + self.topic_count))\n",
    "#                         new_topic = np.random.multinomial(1, p_z / np.sum(p_z)).argmax()\n",
    "\n",
    "#                         self.topic_assignment[doc_idx][word_idx] = new_topic\n",
    "#                         self.topic_word_count[new_topic,word] += 1\n",
    "#                         self.document_topic_count[doc_idx, new_topic] += 1\n",
    "#                         self.topic_count[new_topic] += 1\n",
    "#                         self.num_document[doc_idx]+= 1\n",
    "\n",
    "#                 ## normalize phi and theta\n",
    "#                 for k in range(self.K):\n",
    "#     #                 for w in range(self.V):\n",
    "#                     self.phi[k] = (self.beta + self.topic_word_count[k] ) / (self.beta * self.V + self.topic_count[k])\n",
    "#                 for d in range(self.D):\n",
    "#     #                 for k in range(self.K):\n",
    "#                     self.theta[d] = (self.document_topic_count[d] + self.alpha)/(self.num_document[d] + np.sum(self.alpha))\n",
    "#                 pbar.update(1)\n",
    "#         print(\"Finish Training.\")     \n",
    "    \n",
    "#     def intialization_perplexity(self):\n",
    "#         print('Reinitialize for perplexity calculation, keeping Phi untoched')\n",
    "#         print(\"# of DOCS:\", self.D)                            \n",
    "#         print(\"# of TOPICS:\", self.K)\n",
    "#         print(\"# of VOCABS:\", self.V)\n",
    "\n",
    "#         ## initialization\n",
    "#         for doc_idx, doc in tqdm.tqdm(enumerate(self.documents)):\n",
    "#             random_topics = np.random.randint(0, self.K, size=len(self.documents[doc]))\n",
    "#             self.perp_topic_assignment[doc_idx] = random_topics\n",
    "#             for word_idx, word in enumerate(self.documents[doc]):\n",
    "#                 random_topic = random_topics[word_idx]\n",
    "#                 self.perp_document_topic_count[doc_idx,random_topic] += 1 \n",
    "\n",
    "#         print(\"Finish Perplexity Initialization.\")\n",
    "        \n",
    "#     def Gibbs_sampling_perplexity(self, folder):\n",
    "#         with tqdm.tqdm(total = self.iteration) as pbar:\n",
    "#             for i in range(self.iteration):\n",
    "#                 for doc_idx, doc in enumerate(self.documents):\n",
    "#                     for word_idx, word in enumerate(self.documents[doc]):\n",
    "#                         z = self.perp_topic_assignment[doc_idx][word_idx]              \n",
    "#                         self.perp_document_topic_count[doc_idx, z] -= 1\n",
    "#                         self.num_document[doc_idx] -= 1\n",
    "                        \n",
    "#                         p_z = (self.alpha + self.document_topic_count[doc_idx]) / \\\n",
    "#                         (np.sum(self.alpha) + self.num_document[doc_idx]) * \\\n",
    "#                         ((self.beta + self.topic_word_count[:, word]) \\\n",
    "#                         / (self.beta * self.V + self.topic_count))\n",
    "#                         new_topic = np.random.multinomial(1, p_z / np.sum(p_z)).argmax()\n",
    "                        \n",
    "#                         self.perp_topic_assignment[doc_idx][word_idx] = new_topic\n",
    "#                         self.perp_document_topic_count[doc_idx, new_topic] += 1\n",
    "#                         self.num_document[doc_idx]+= 1\n",
    "                        \n",
    "#                 ## normalization perp_theta\n",
    "#                 for d in range(self.D):\n",
    "#                     self.perp_theta[d] = (self.alpha + self.perp_document_topic_count[d]) / (np.sum(self.perp_document_topic_count[d]) + np.sum(self.alpha))\n",
    "#                 pbar.update(1)\n",
    "#             print(\"Finish Perplexity Testing.\")\n",
    "#             perp_theta_mtx_path = folder + '/perp_theta_mtx_iter' + str(self.iteration) + '.pkl'\n",
    "#             with open(perp_theta_mtx_path, 'wb') as f:\n",
    "#                 pickle.dump(self.perp_theta, f)"
   ]
  },
  {
   "cell_type": "code",
   "execution_count": 291,
   "id": "0eeb6c01",
   "metadata": {},
   "outputs": [
    {
     "name": "stdout",
     "output_type": "stream",
     "text": [
      "# of DOCS: 37022\n",
      "# of TOPICS: 1641\n",
      "# of VOCABS: 6239\n",
      "Finish Initialization.\n"
     ]
    },
    {
     "name": "stderr",
     "output_type": "stream",
     "text": [
      "100%|█████████████████████████████████████████████| 1/1 [00:54<00:00, 54.21s/it]\n"
     ]
    },
    {
     "name": "stdout",
     "output_type": "stream",
     "text": [
      "Finish Training.\n"
     ]
    },
    {
     "name": "stderr",
     "output_type": "stream",
     "text": [
      "37022it [00:16, 2309.22it/s]\n"
     ]
    },
    {
     "name": "stdout",
     "output_type": "stream",
     "text": [
      "test_size: 0.9\n",
      "Perplexity score one-shot LDA: 0.00012522248421967055\n",
      "# of DOCS: 9256\n",
      "# of TOPICS: 1641\n",
      "# of VOCABS: 6239\n",
      "Finish Initialization.\n",
      "Reinitialize for perplexity calculation, keeping Phi untoched\n",
      "# of DOCS: 9256\n",
      "# of TOPICS: 1641\n",
      "# of VOCABS: 6239\n"
     ]
    },
    {
     "name": "stderr",
     "output_type": "stream",
     "text": [
      "9256it [00:00, 38404.71it/s]\n"
     ]
    },
    {
     "name": "stdout",
     "output_type": "stream",
     "text": [
      "Finish Perplexity Initialization.\n"
     ]
    },
    {
     "name": "stderr",
     "output_type": "stream",
     "text": [
      "100%|█████████████████████████████████████████████| 1/1 [00:14<00:00, 14.17s/it]\n"
     ]
    },
    {
     "name": "stdout",
     "output_type": "stream",
     "text": [
      "Finish Perplexity Testing.\n"
     ]
    },
    {
     "name": "stderr",
     "output_type": "stream",
     "text": [
      "9256it [00:04, 2195.41it/s]\n"
     ]
    },
    {
     "name": "stdout",
     "output_type": "stream",
     "text": [
      "Perplexity score real LDA: 0.025752967652462596\n",
      "# of DOCS: 37022\n",
      "# of TOPICS: 1641\n",
      "# of VOCABS: 6239\n",
      "Finish Initialization.\n"
     ]
    },
    {
     "name": "stderr",
     "output_type": "stream",
     "text": [
      "100%|█████████████████████████████████████████████| 1/1 [00:55<00:00, 55.06s/it]\n"
     ]
    },
    {
     "name": "stdout",
     "output_type": "stream",
     "text": [
      "Finish Training.\n"
     ]
    },
    {
     "name": "stderr",
     "output_type": "stream",
     "text": [
      "37022it [00:16, 2267.84it/s]\n"
     ]
    },
    {
     "name": "stdout",
     "output_type": "stream",
     "text": [
      "test_size: 0.9\n",
      "Perplexity score one-shot LDA: 0.002403122244145612\n",
      "# of DOCS: 9256\n",
      "# of TOPICS: 1641\n",
      "# of VOCABS: 6239\n",
      "Finish Initialization.\n",
      "Reinitialize for perplexity calculation, keeping Phi untoched\n",
      "# of DOCS: 9256\n",
      "# of TOPICS: 1641\n",
      "# of VOCABS: 6239\n"
     ]
    },
    {
     "name": "stderr",
     "output_type": "stream",
     "text": [
      "9256it [00:00, 31447.78it/s]\n"
     ]
    },
    {
     "name": "stdout",
     "output_type": "stream",
     "text": [
      "Finish Perplexity Initialization.\n"
     ]
    },
    {
     "name": "stderr",
     "output_type": "stream",
     "text": [
      "100%|█████████████████████████████████████████████| 1/1 [00:13<00:00, 13.56s/it]\n"
     ]
    },
    {
     "name": "stdout",
     "output_type": "stream",
     "text": [
      "Finish Perplexity Testing.\n"
     ]
    },
    {
     "name": "stderr",
     "output_type": "stream",
     "text": [
      "9256it [00:03, 2317.77it/s]\n"
     ]
    },
    {
     "name": "stdout",
     "output_type": "stream",
     "text": [
      "Perplexity score real LDA: 0.006922188481208291\n",
      "# of DOCS: 37022\n",
      "# of TOPICS: 1641\n",
      "# of VOCABS: 6239\n",
      "Finish Initialization.\n"
     ]
    },
    {
     "name": "stderr",
     "output_type": "stream",
     "text": [
      "100%|█████████████████████████████████████████████| 1/1 [00:59<00:00, 59.55s/it]\n"
     ]
    },
    {
     "name": "stdout",
     "output_type": "stream",
     "text": [
      "Finish Training.\n"
     ]
    },
    {
     "name": "stderr",
     "output_type": "stream",
     "text": [
      "37022it [00:16, 2252.99it/s]\n"
     ]
    },
    {
     "name": "stdout",
     "output_type": "stream",
     "text": [
      "test_size: 0.9\n",
      "Perplexity score one-shot LDA: 0.0042248836635524626\n",
      "# of DOCS: 9256\n",
      "# of TOPICS: 1641\n",
      "# of VOCABS: 6239\n",
      "Finish Initialization.\n",
      "Reinitialize for perplexity calculation, keeping Phi untoched\n",
      "# of DOCS: 9256\n",
      "# of TOPICS: 1641\n",
      "# of VOCABS: 6239\n"
     ]
    },
    {
     "name": "stderr",
     "output_type": "stream",
     "text": [
      "9256it [00:00, 39352.36it/s]\n"
     ]
    },
    {
     "name": "stdout",
     "output_type": "stream",
     "text": [
      "Finish Perplexity Initialization.\n"
     ]
    },
    {
     "name": "stderr",
     "output_type": "stream",
     "text": [
      "100%|█████████████████████████████████████████████| 1/1 [00:14<00:00, 14.07s/it]\n"
     ]
    },
    {
     "name": "stdout",
     "output_type": "stream",
     "text": [
      "Finish Perplexity Testing.\n"
     ]
    },
    {
     "name": "stderr",
     "output_type": "stream",
     "text": [
      "9256it [00:04, 2279.73it/s]\n"
     ]
    },
    {
     "name": "stdout",
     "output_type": "stream",
     "text": [
      "Perplexity score real LDA: 0.0005010989042085541\n",
      "# of DOCS: 37022\n",
      "# of TOPICS: 1641\n",
      "# of VOCABS: 6239\n",
      "Finish Initialization.\n"
     ]
    },
    {
     "name": "stderr",
     "output_type": "stream",
     "text": [
      "100%|█████████████████████████████████████████████| 1/1 [00:55<00:00, 55.86s/it]\n"
     ]
    },
    {
     "name": "stdout",
     "output_type": "stream",
     "text": [
      "Finish Training.\n"
     ]
    },
    {
     "name": "stderr",
     "output_type": "stream",
     "text": [
      "37022it [00:15, 2335.33it/s]\n"
     ]
    },
    {
     "name": "stdout",
     "output_type": "stream",
     "text": [
      "test_size: 0.9\n",
      "Perplexity score one-shot LDA: 0.0014599633042806552\n",
      "# of DOCS: 9256\n",
      "# of TOPICS: 1641\n",
      "# of VOCABS: 6239\n",
      "Finish Initialization.\n",
      "Reinitialize for perplexity calculation, keeping Phi untoched\n",
      "# of DOCS: 9256\n",
      "# of TOPICS: 1641\n",
      "# of VOCABS: 6239\n"
     ]
    },
    {
     "name": "stderr",
     "output_type": "stream",
     "text": [
      "9256it [00:00, 40841.73it/s]\n"
     ]
    },
    {
     "name": "stdout",
     "output_type": "stream",
     "text": [
      "Finish Perplexity Initialization.\n"
     ]
    },
    {
     "name": "stderr",
     "output_type": "stream",
     "text": [
      "100%|█████████████████████████████████████████████| 1/1 [00:13<00:00, 13.12s/it]\n"
     ]
    },
    {
     "name": "stdout",
     "output_type": "stream",
     "text": [
      "Finish Perplexity Testing.\n"
     ]
    },
    {
     "name": "stderr",
     "output_type": "stream",
     "text": [
      "9256it [00:03, 2325.61it/s]\n"
     ]
    },
    {
     "name": "stdout",
     "output_type": "stream",
     "text": [
      "Perplexity score real LDA: 0.005374937435318852\n",
      "# of DOCS: 37022\n",
      "# of TOPICS: 1641\n",
      "# of VOCABS: 6239\n",
      "Finish Initialization.\n"
     ]
    },
    {
     "name": "stderr",
     "output_type": "stream",
     "text": [
      "100%|█████████████████████████████████████████████| 1/1 [00:50<00:00, 50.95s/it]\n"
     ]
    },
    {
     "name": "stdout",
     "output_type": "stream",
     "text": [
      "Finish Training.\n"
     ]
    },
    {
     "name": "stderr",
     "output_type": "stream",
     "text": [
      "37022it [00:15, 2358.18it/s]\n"
     ]
    },
    {
     "name": "stdout",
     "output_type": "stream",
     "text": [
      "test_size: 0.9\n",
      "Perplexity score one-shot LDA: 0.0019308361177103777\n",
      "# of DOCS: 9256\n",
      "# of TOPICS: 1641\n",
      "# of VOCABS: 6239\n",
      "Finish Initialization.\n",
      "Reinitialize for perplexity calculation, keeping Phi untoched\n",
      "# of DOCS: 9256\n",
      "# of TOPICS: 1641\n",
      "# of VOCABS: 6239\n"
     ]
    },
    {
     "name": "stderr",
     "output_type": "stream",
     "text": [
      "9256it [00:00, 42065.66it/s]\n"
     ]
    },
    {
     "name": "stdout",
     "output_type": "stream",
     "text": [
      "Finish Perplexity Initialization.\n"
     ]
    },
    {
     "name": "stderr",
     "output_type": "stream",
     "text": [
      "100%|█████████████████████████████████████████████| 1/1 [00:13<00:00, 13.30s/it]\n"
     ]
    },
    {
     "name": "stdout",
     "output_type": "stream",
     "text": [
      "Finish Perplexity Testing.\n"
     ]
    },
    {
     "name": "stderr",
     "output_type": "stream",
     "text": [
      "9256it [00:04, 2279.75it/s]"
     ]
    },
    {
     "name": "stdout",
     "output_type": "stream",
     "text": [
      "Perplexity score real LDA: 0.0023051456957068023\n"
     ]
    },
    {
     "name": "stderr",
     "output_type": "stream",
     "text": [
      "\n"
     ]
    }
   ],
   "source": [
    "# perplexity_curve_one_shot_lda_new = []\n",
    "# perplexity_curve_real_lda_new = []\n",
    "# five_fold_train_indices_lda = []\n",
    "# five_fold_test_indices_lda = []\n",
    "\n",
    "# for i in range(5):\n",
    "#     docs_train, docs_test, train_indices, test_indices = train_test_split(docs, np.arange(docs.shape[0]), test_size=0.2, random_state=i)\n",
    "    \n",
    "#     five_fold_train_indices_lda.append(train_indices)\n",
    "#     five_fold_test_indices_lda.append(test_indices)\n",
    "    \n",
    "#     # one-shot perplexity score\n",
    "#     lda = LDA(docs_train, iteration=1, alpha=1, beta=0.00001, num_topics=1641, perp=False)\n",
    "    \n",
    "# #     model = MixEHR_Nest(docs_train, alpha_train.shape[1], alpha_train, beta=0.00001, iteration=5, perp=False,\n",
    "# #                         num_sub_topics=3) # change beta from 0.001 to 0.0001\n",
    "    \n",
    "# #     model.initialization()\n",
    "#     lda.Gibbs_sampling()\n",
    "#     perp_score_one_shot = perplexity(lda.theta, lda.phi, lda.documents)\n",
    "#     perplexity_curve_one_shot_lda_new.append(perp_score_one_shot)\n",
    "#     print('test_size: ' + str(r))\n",
    "#     print('Perplexity score one-shot LDA: ' + str(perp_score_one_shot))\n",
    "    \n",
    "    \n",
    "#     # real perplexity score\n",
    "#     lda_perp = LDA(docs_test, iteration=1, alpha=1, beta=0.00001, num_topics=1641, \n",
    "#                              perp=True, topic_word_count=lda.topic_word_count, \n",
    "#                              topic_count=lda.topic_count, phi=lda.phi)\n",
    "#     lda_perp.intialization_perplexity()\n",
    "#     lda_perp.Gibbs_sampling_perplexity('zilong_result4')\n",
    "#     perp_score_real = perplexity(lda_perp.perp_theta, lda_perp.phi, lda_perp.documents)\n",
    "#     perplexity_curve_real_lda_new.append(perp_score_real)\n",
    "    \n",
    "#     print('Perplexity score real LDA: ' + str(perp_score_real))\n",
    "\n",
    "    "
   ]
  },
  {
   "cell_type": "code",
   "execution_count": 262,
   "id": "df7217e2",
   "metadata": {},
   "outputs": [
    {
     "name": "stdout",
     "output_type": "stream",
     "text": [
      "# of DOCS: 37022\n",
      "# of TOPICS: 1641\n",
      "# of SUBTOPICS: 1\n",
      "# of VOCABS: 6239\n"
     ]
    },
    {
     "name": "stderr",
     "output_type": "stream",
     "text": [
      "37022it [00:08, 4425.30it/s]\n"
     ]
    },
    {
     "name": "stdout",
     "output_type": "stream",
     "text": [
      "Finish Initialization.\n"
     ]
    },
    {
     "name": "stderr",
     "output_type": "stream",
     "text": [
      "100%|█████████████████████████████████████████████| 1/1 [00:44<00:00, 44.89s/it]\n"
     ]
    },
    {
     "name": "stdout",
     "output_type": "stream",
     "text": [
      "Finish Training.\n"
     ]
    },
    {
     "name": "stderr",
     "output_type": "stream",
     "text": [
      "37022it [00:17, 2148.30it/s]\n"
     ]
    },
    {
     "name": "stdout",
     "output_type": "stream",
     "text": [
      "test_size: 0.2\n",
      "Perplexity score one-shot: 2.6789603512390966e-06\n",
      "Reinitialize for perplexity calculation, keeping Phi untoched\n",
      "# of DOCS: 9256\n",
      "# of TOPICS: 1641\n",
      "# of SUBTOPICS: 1\n",
      "# of VOCABS: 6239\n"
     ]
    },
    {
     "name": "stderr",
     "output_type": "stream",
     "text": [
      "9256it [00:01, 4829.22it/s]\n"
     ]
    },
    {
     "name": "stdout",
     "output_type": "stream",
     "text": [
      "Finish Perplexity Initialization.\n"
     ]
    },
    {
     "name": "stderr",
     "output_type": "stream",
     "text": [
      "100%|█████████████████████████████████████████████| 1/1 [00:10<00:00, 10.90s/it]\n"
     ]
    },
    {
     "name": "stdout",
     "output_type": "stream",
     "text": [
      "Finish Perplexity Testing.\n"
     ]
    },
    {
     "name": "stderr",
     "output_type": "stream",
     "text": [
      "9256it [00:04, 2191.56it/s]\n"
     ]
    },
    {
     "name": "stdout",
     "output_type": "stream",
     "text": [
      "Perplexity score real: 0.016876871264508205\n",
      "# of DOCS: 37022\n",
      "# of TOPICS: 1641\n",
      "# of SUBTOPICS: 1\n",
      "# of VOCABS: 6239\n"
     ]
    },
    {
     "name": "stderr",
     "output_type": "stream",
     "text": [
      "37022it [00:07, 5115.63it/s]\n"
     ]
    },
    {
     "name": "stdout",
     "output_type": "stream",
     "text": [
      "Finish Initialization.\n"
     ]
    },
    {
     "name": "stderr",
     "output_type": "stream",
     "text": [
      "100%|█████████████████████████████████████████████| 1/1 [00:43<00:00, 43.16s/it]\n"
     ]
    },
    {
     "name": "stdout",
     "output_type": "stream",
     "text": [
      "Finish Training.\n"
     ]
    },
    {
     "name": "stderr",
     "output_type": "stream",
     "text": [
      "37022it [00:15, 2315.74it/s]\n"
     ]
    },
    {
     "name": "stdout",
     "output_type": "stream",
     "text": [
      "test_size: 0.2\n",
      "Perplexity score one-shot: 0.0010760930211920873\n",
      "Reinitialize for perplexity calculation, keeping Phi untoched\n",
      "# of DOCS: 9256\n",
      "# of TOPICS: 1641\n",
      "# of SUBTOPICS: 1\n",
      "# of VOCABS: 6239\n"
     ]
    },
    {
     "name": "stderr",
     "output_type": "stream",
     "text": [
      "9256it [00:02, 4157.64it/s]\n"
     ]
    },
    {
     "name": "stdout",
     "output_type": "stream",
     "text": [
      "Finish Perplexity Initialization.\n"
     ]
    },
    {
     "name": "stderr",
     "output_type": "stream",
     "text": [
      "100%|█████████████████████████████████████████████| 1/1 [00:11<00:00, 11.06s/it]\n"
     ]
    },
    {
     "name": "stdout",
     "output_type": "stream",
     "text": [
      "Finish Perplexity Testing.\n"
     ]
    },
    {
     "name": "stderr",
     "output_type": "stream",
     "text": [
      "9256it [00:04, 2079.24it/s]\n"
     ]
    },
    {
     "name": "stdout",
     "output_type": "stream",
     "text": [
      "Perplexity score real: 0.0030327286613755127\n",
      "# of DOCS: 37022\n",
      "# of TOPICS: 1641\n",
      "# of SUBTOPICS: 1\n",
      "# of VOCABS: 6239\n"
     ]
    },
    {
     "name": "stderr",
     "output_type": "stream",
     "text": [
      "37022it [00:08, 4534.68it/s]\n"
     ]
    },
    {
     "name": "stdout",
     "output_type": "stream",
     "text": [
      "Finish Initialization.\n"
     ]
    },
    {
     "name": "stderr",
     "output_type": "stream",
     "text": [
      "100%|█████████████████████████████████████████████| 1/1 [00:42<00:00, 42.97s/it]\n"
     ]
    },
    {
     "name": "stdout",
     "output_type": "stream",
     "text": [
      "Finish Training.\n"
     ]
    },
    {
     "name": "stderr",
     "output_type": "stream",
     "text": [
      "37022it [00:16, 2245.05it/s]\n"
     ]
    },
    {
     "name": "stdout",
     "output_type": "stream",
     "text": [
      "test_size: 0.2\n",
      "Perplexity score one-shot: 0.0023830198393651877\n",
      "Reinitialize for perplexity calculation, keeping Phi untoched\n",
      "# of DOCS: 9256\n",
      "# of TOPICS: 1641\n",
      "# of SUBTOPICS: 1\n",
      "# of VOCABS: 6239\n"
     ]
    },
    {
     "name": "stderr",
     "output_type": "stream",
     "text": [
      "9256it [00:01, 5121.58it/s]\n"
     ]
    },
    {
     "name": "stdout",
     "output_type": "stream",
     "text": [
      "Finish Perplexity Initialization.\n"
     ]
    },
    {
     "name": "stderr",
     "output_type": "stream",
     "text": [
      "100%|█████████████████████████████████████████████| 1/1 [00:10<00:00, 10.92s/it]\n"
     ]
    },
    {
     "name": "stdout",
     "output_type": "stream",
     "text": [
      "Finish Perplexity Testing.\n"
     ]
    },
    {
     "name": "stderr",
     "output_type": "stream",
     "text": [
      "9256it [00:04, 2289.93it/s]\n"
     ]
    },
    {
     "name": "stdout",
     "output_type": "stream",
     "text": [
      "Perplexity score real: 1.0774169662730492e-05\n",
      "# of DOCS: 37022\n",
      "# of TOPICS: 1641\n",
      "# of SUBTOPICS: 1\n",
      "# of VOCABS: 6239\n"
     ]
    },
    {
     "name": "stderr",
     "output_type": "stream",
     "text": [
      "37022it [00:07, 4769.69it/s]\n"
     ]
    },
    {
     "name": "stdout",
     "output_type": "stream",
     "text": [
      "Finish Initialization.\n"
     ]
    },
    {
     "name": "stderr",
     "output_type": "stream",
     "text": [
      "100%|█████████████████████████████████████████████| 1/1 [00:44<00:00, 44.62s/it]\n"
     ]
    },
    {
     "name": "stdout",
     "output_type": "stream",
     "text": [
      "Finish Training.\n"
     ]
    },
    {
     "name": "stderr",
     "output_type": "stream",
     "text": [
      "37022it [00:16, 2305.60it/s]\n"
     ]
    },
    {
     "name": "stdout",
     "output_type": "stream",
     "text": [
      "test_size: 0.2\n",
      "Perplexity score one-shot: 0.0006091154434979317\n",
      "Reinitialize for perplexity calculation, keeping Phi untoched\n",
      "# of DOCS: 9256\n",
      "# of TOPICS: 1641\n",
      "# of SUBTOPICS: 1\n",
      "# of VOCABS: 6239\n"
     ]
    },
    {
     "name": "stderr",
     "output_type": "stream",
     "text": [
      "9256it [00:01, 5234.81it/s]\n"
     ]
    },
    {
     "name": "stdout",
     "output_type": "stream",
     "text": [
      "Finish Perplexity Initialization.\n"
     ]
    },
    {
     "name": "stderr",
     "output_type": "stream",
     "text": [
      "100%|█████████████████████████████████████████████| 1/1 [00:11<00:00, 11.01s/it]\n"
     ]
    },
    {
     "name": "stdout",
     "output_type": "stream",
     "text": [
      "Finish Perplexity Testing.\n"
     ]
    },
    {
     "name": "stderr",
     "output_type": "stream",
     "text": [
      "9256it [00:04, 2254.23it/s]\n"
     ]
    },
    {
     "name": "stdout",
     "output_type": "stream",
     "text": [
      "Perplexity score real: 0.0029038341136637586\n",
      "# of DOCS: 37022\n",
      "# of TOPICS: 1641\n",
      "# of SUBTOPICS: 1\n",
      "# of VOCABS: 6239\n"
     ]
    },
    {
     "name": "stderr",
     "output_type": "stream",
     "text": [
      "37022it [00:08, 4583.99it/s]\n"
     ]
    },
    {
     "name": "stdout",
     "output_type": "stream",
     "text": [
      "Finish Initialization.\n"
     ]
    },
    {
     "name": "stderr",
     "output_type": "stream",
     "text": [
      "100%|█████████████████████████████████████████████| 1/1 [00:43<00:00, 43.88s/it]\n"
     ]
    },
    {
     "name": "stdout",
     "output_type": "stream",
     "text": [
      "Finish Training.\n"
     ]
    },
    {
     "name": "stderr",
     "output_type": "stream",
     "text": [
      "37022it [00:16, 2246.19it/s]\n"
     ]
    },
    {
     "name": "stdout",
     "output_type": "stream",
     "text": [
      "test_size: 0.2\n",
      "Perplexity score one-shot: 0.0010622003168698753\n",
      "Reinitialize for perplexity calculation, keeping Phi untoched\n",
      "# of DOCS: 9256\n",
      "# of TOPICS: 1641\n",
      "# of SUBTOPICS: 1\n",
      "# of VOCABS: 6239\n"
     ]
    },
    {
     "name": "stderr",
     "output_type": "stream",
     "text": [
      "9256it [00:01, 4973.52it/s]\n"
     ]
    },
    {
     "name": "stdout",
     "output_type": "stream",
     "text": [
      "Finish Perplexity Initialization.\n"
     ]
    },
    {
     "name": "stderr",
     "output_type": "stream",
     "text": [
      "100%|█████████████████████████████████████████████| 1/1 [00:11<00:00, 11.23s/it]\n"
     ]
    },
    {
     "name": "stdout",
     "output_type": "stream",
     "text": [
      "Finish Perplexity Testing.\n"
     ]
    },
    {
     "name": "stderr",
     "output_type": "stream",
     "text": [
      "9256it [00:04, 2271.04it/s]"
     ]
    },
    {
     "name": "stdout",
     "output_type": "stream",
     "text": [
      "Perplexity score real: 0.0007592291673685674\n"
     ]
    },
    {
     "name": "stderr",
     "output_type": "stream",
     "text": [
      "\n"
     ]
    }
   ],
   "source": [
    "# MixEHR-guided, where we use alpha_M1, no subtopics, \n",
    "# because all we need to change is alpha, we just inherit general MixEHR-Nest\n",
    "five_fold_perplexity_one_shot_M1 = []\n",
    "five_fold_perplexity_real_M1 = []\n",
    "five_fold_train_indices_M1 = []\n",
    "five_fold_test_indices_M1 = []\n",
    "\n",
    "for i in range(5):\n",
    "    docs_train, docs_test, alpha_M1_train, alpha_M1_test, train_indices, test_indices = train_test_split(docs, alpha_M1, np.arange(alpha_M1.shape[0]), test_size=0.2, random_state=i)\n",
    "    \n",
    "    five_fold_train_indices_M1.append(train_indices)\n",
    "    five_fold_test_indices_M1.append(test_indices)\n",
    "    \n",
    "    # one-shot perplexity score\n",
    "    model_M1 = MixEHR_Nest(docs_train, alpha_M1_train.shape[1], alpha_M1_train, beta=0.00001, iteration=1, perp=False,\n",
    "                        num_sub_topics=1) # change beta from 0.001 to 0.0001\n",
    "    model_M1.initialization()\n",
    "    model_M1.Gibbs_sampling('zilong_result4')\n",
    "    perp_score_one_shot_M1 = perplexity(model_M1.theta, model_M1.phi, model_M1.documents)\n",
    "    five_fold_perplexity_one_shot_M1.append(perp_score_one_shot_M1)\n",
    "    print('test_size: ' + str(0.2))\n",
    "    print('Perplexity score one-shot: ' + str(perp_score_one_shot_M1))\n",
    "    \n",
    "    \n",
    "    # real perplexity score\n",
    "    model_perp = MixEHR_Nest(docs_test, alpha_M1_test.shape[1], alpha_M1_test, beta=0.00001, iteration=1, num_sub_topics=1, \n",
    "                             perp=True, topic_word_count=model_M1.topic_word_count, \n",
    "                             topic_count=model_M1.topic_count, phi=model_M1.phi)\n",
    "    model_perp.intialization_perplexity()\n",
    "    model_perp.Gibbs_sampling_perplexity('zilong_result4')\n",
    "    perp_score_real = perplexity(model_perp.perp_theta, model_perp.phi, model_perp.documents)\n",
    "    five_fold_perplexity_real_M1.append(perp_score_real)\n",
    "    \n",
    "    print('Perplexity score real: ' + str(perp_score_real))"
   ]
  },
  {
   "cell_type": "code",
   "execution_count": 263,
   "id": "c4269906",
   "metadata": {},
   "outputs": [
    {
     "data": {
      "text/plain": [
       "[2.6789603512390966e-06,\n",
       " 0.0010760930211920873,\n",
       " 0.0023830198393651877,\n",
       " 0.0006091154434979317,\n",
       " 0.0010622003168698753]"
      ]
     },
     "execution_count": 263,
     "metadata": {},
     "output_type": "execute_result"
    }
   ],
   "source": [
    "five_fold_perplexity_one_shot_M1"
   ]
  },
  {
   "cell_type": "code",
   "execution_count": 264,
   "id": "5030d157",
   "metadata": {},
   "outputs": [
    {
     "data": {
      "text/plain": [
       "[0.016876871264508205,\n",
       " 0.0030327286613755127,\n",
       " 1.0774169662730492e-05,\n",
       " 0.0029038341136637586,\n",
       " 0.0007592291673685674]"
      ]
     },
     "execution_count": 264,
     "metadata": {},
     "output_type": "execute_result"
    }
   ],
   "source": [
    "five_fold_perplexity_real_M1"
   ]
  },
  {
   "cell_type": "code",
   "execution_count": 129,
   "id": "0ae09010",
   "metadata": {},
   "outputs": [
    {
     "data": {
      "text/plain": [
       "([<matplotlib.axis.XTick at 0x7fa771612670>,\n",
       "  <matplotlib.axis.XTick at 0x7fa7716123d0>],\n",
       " [Text(1, 0, 'one-shot'), Text(2, 0, 'test')])"
      ]
     },
     "execution_count": 129,
     "metadata": {},
     "output_type": "execute_result"
    },
    {
     "data": {
      "image/png": "[encoded data removed]",
      "text/plain": [
       "<Figure size 640x480 with 1 Axes>"
      ]
     },
     "metadata": {},
     "output_type": "display_data"
    }
   ],
   "source": [
    "plt.bar(x=[1,2], height=[np.mean(five_fold_perplexity_one_shot), np.mean(five_fold_perplexity_real)], yerr=[np.std(five_fold_perplexity_one_shot), np.std(five_fold_perplexity_real)], label='MixEHR-Nest')\n",
    "# plt.bar(x=[3,4], height=[np.mean(five_fold_perplexity_one_shot_M1), np.mean(five_fold_perplexity_real_M1)], yerr=[np.std(five_fold_perplexity_one_shot_M1), np.std(five_fold_perplexity_real_M1)], tick_label=['one-shot', 'test'], label='MixEHR-Guided')\n",
    "# plt.bar(x=[5,6], height=[np.mean(perplexity_curve_one_shot_lda), np.mean(perplexity_curve_real_lda)], yerr=[np.std(perplexity_curve_one_shot_lda), np.std(perplexity_curve_real_lda)], label='LDA-4923 topics')\n",
    "# plt.bar(x=[7,8], height=[np.mean(perplexity_curve_one_shot_lda_new), np.mean(perplexity_curve_real_lda_new)], yerr=[np.std(perplexity_curve_one_shot_lda), np.std(perplexity_curve_real_lda)], label='LDA-1641 topics')\n",
    "\n",
    "plt.legend(loc='lower right')\n",
    "plt.ylabel('avg perplexity across 5 trials')\n",
    "plt.title('M=4, 30% test size')\n",
    "# plt.xlabel('left is on train (one-shot), right is on test')\n",
    "plt.xticks([1,2],['one-shot', 'test'])#, 'one-shot', 'test', 'one-shot', 'test'])"
   ]
  },
  {
   "cell_type": "code",
   "execution_count": 131,
   "id": "c9b2deec",
   "metadata": {},
   "outputs": [
    {
     "data": {
      "text/plain": [
       "([<matplotlib.axis.XTick at 0x7fa731c103a0>,\n",
       "  <matplotlib.axis.XTick at 0x7fa731c10be0>],\n",
       " [Text(1, 0, 'TC'), Text(2, 0, 'TD')])"
      ]
     },
     "execution_count": 131,
     "metadata": {},
     "output_type": "execute_result"
    },
    {
     "data": {
      "image/png": "[encoded data removed]",
      "text/plain": [
       "<Figure size 640x480 with 1 Axes>"
      ]
     },
     "metadata": {},
     "output_type": "display_data"
    }
   ],
   "source": [
    "plt.bar(x=[1,2], height=[np.mean(fivefold_TC), np.mean(fivefold_TD)], yerr=[np.std(fivefold_TC), np.std(fivefold_TC)], label='MixEHR-Nest')\n",
    "plt.legend(loc='lower right')\n",
    "plt.title('M=4, 30% test size')\n",
    "plt.ylabel('avg TC, TD across 5 trials')\n",
    "plt.xticks([1,2],['TC', 'TD'])"
   ]
  }
 ],
 "metadata": {
  "kernelspec": {
   "display_name": "Python 3 (ipykernel)",
   "language": "python",
   "name": "python3"
  },
  "language_info": {
   "codemirror_mode": {
    "name": "ipython",
    "version": 3
   },
   "file_extension": ".py",
   "mimetype": "text/x-python",
   "name": "python",
   "nbconvert_exporter": "python",
   "pygments_lexer": "ipython3",
   "version": "3.9.12"
  },
  "vscode": {
   "interpreter": {
    "hash": "a8822641e88d7c74114f38a155dc8686f9f41cc7c790ba54cfc07cc82201c3e7"
   }
  }
 },
 "nbformat": 4,
 "nbformat_minor": 5
}
